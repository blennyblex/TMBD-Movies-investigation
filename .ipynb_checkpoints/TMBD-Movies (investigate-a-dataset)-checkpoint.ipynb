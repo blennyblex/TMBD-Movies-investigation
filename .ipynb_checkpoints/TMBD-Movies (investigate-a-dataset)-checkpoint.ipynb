{
 "cells": [
  {
   "cell_type": "markdown",
   "metadata": {},
   "source": [
    "# Project: Investigate a Dataset (TMBD MOVIES)\n",
    "\n",
    "## Table of Contents\n",
    "<ul>\n",
    "<li><a href=\"#intro\">Introduction</a></li>\n",
    "<li><a href=\"#wrangling\">Data Wrangling</a></li>\n",
    "<li><a href=\"#eda\">Exploratory Data Analysis</a></li>\n",
    "<li><a href=\"#conclusions\">Conclusions</a></li>\n",
    "<li><a href=\"#resources used\">Resources Used</a></li>  \n",
    "</ul>"
   ]
  },
  {
   "cell_type": "markdown",
   "metadata": {},
   "source": [
    "<a id='intro'></a>\n",
    "## Introduction\n",
    "\n",
    "> The TMBD Movies dataset contains information about 10866 movies, with information about the popularity, budget, revenue, casts, directors, production company, runtime, release date, release year, vote, among others.<br>\n",
    "> The aim of this project is to investigate the data, explore, get information about it, get useful and data-driven insights by asking appropriate questions with the use of proper analysis and visualization tools. Investigate the sucess of a movie.\n"
   ]
  },
  {
   "cell_type": "code",
   "execution_count": 1,
   "metadata": {},
   "outputs": [],
   "source": [
    "# import necessary libraries\n",
    "\n",
    "import pandas as pd\n",
    "import numpy as np\n",
    "import matplotlib.pyplot as plt\n",
    "import seaborn as sns\n",
    "\n",
    "%matplotlib inline"
   ]
  },
  {
   "cell_type": "markdown",
   "metadata": {},
   "source": [
    "<a id='wrangling'></a>\n",
    "## Data Wrangling\n",
    "\n",
    "> In this section of the report, the data will be loaded, checked for cleanliness, trimmed and cleaned for analysis. \n",
    "\n",
    "### General Properties"
   ]
  },
  {
   "cell_type": "code",
   "execution_count": 2,
   "metadata": {},
   "outputs": [],
   "source": [
    "# to display all columns\n",
    "\n",
    "pd.set_option(\"display.max_columns\", None)"
   ]
  },
  {
   "cell_type": "code",
   "execution_count": 3,
   "metadata": {},
   "outputs": [
    {
     "data": {
      "text/html": [
       "<div>\n",
       "<style scoped>\n",
       "    .dataframe tbody tr th:only-of-type {\n",
       "        vertical-align: middle;\n",
       "    }\n",
       "\n",
       "    .dataframe tbody tr th {\n",
       "        vertical-align: top;\n",
       "    }\n",
       "\n",
       "    .dataframe thead th {\n",
       "        text-align: right;\n",
       "    }\n",
       "</style>\n",
       "<table border=\"1\" class=\"dataframe\">\n",
       "  <thead>\n",
       "    <tr style=\"text-align: right;\">\n",
       "      <th></th>\n",
       "      <th>id</th>\n",
       "      <th>imdb_id</th>\n",
       "      <th>popularity</th>\n",
       "      <th>budget</th>\n",
       "      <th>revenue</th>\n",
       "      <th>original_title</th>\n",
       "      <th>cast</th>\n",
       "      <th>homepage</th>\n",
       "      <th>director</th>\n",
       "      <th>tagline</th>\n",
       "      <th>keywords</th>\n",
       "      <th>overview</th>\n",
       "      <th>runtime</th>\n",
       "      <th>genres</th>\n",
       "      <th>production_companies</th>\n",
       "      <th>release_date</th>\n",
       "      <th>vote_count</th>\n",
       "      <th>vote_average</th>\n",
       "      <th>release_year</th>\n",
       "      <th>budget_adj</th>\n",
       "      <th>revenue_adj</th>\n",
       "    </tr>\n",
       "  </thead>\n",
       "  <tbody>\n",
       "    <tr>\n",
       "      <th>0</th>\n",
       "      <td>135397</td>\n",
       "      <td>tt0369610</td>\n",
       "      <td>32.985763</td>\n",
       "      <td>150000000</td>\n",
       "      <td>1513528810</td>\n",
       "      <td>Jurassic World</td>\n",
       "      <td>Chris Pratt|Bryce Dallas Howard|Irrfan Khan|Vi...</td>\n",
       "      <td>http://www.jurassicworld.com/</td>\n",
       "      <td>Colin Trevorrow</td>\n",
       "      <td>The park is open.</td>\n",
       "      <td>monster|dna|tyrannosaurus rex|velociraptor|island</td>\n",
       "      <td>Twenty-two years after the events of Jurassic ...</td>\n",
       "      <td>124</td>\n",
       "      <td>Action|Adventure|Science Fiction|Thriller</td>\n",
       "      <td>Universal Studios|Amblin Entertainment|Legenda...</td>\n",
       "      <td>6/9/15</td>\n",
       "      <td>5562</td>\n",
       "      <td>6.5</td>\n",
       "      <td>2015</td>\n",
       "      <td>1.379999e+08</td>\n",
       "      <td>1.392446e+09</td>\n",
       "    </tr>\n",
       "    <tr>\n",
       "      <th>1</th>\n",
       "      <td>76341</td>\n",
       "      <td>tt1392190</td>\n",
       "      <td>28.419936</td>\n",
       "      <td>150000000</td>\n",
       "      <td>378436354</td>\n",
       "      <td>Mad Max: Fury Road</td>\n",
       "      <td>Tom Hardy|Charlize Theron|Hugh Keays-Byrne|Nic...</td>\n",
       "      <td>http://www.madmaxmovie.com/</td>\n",
       "      <td>George Miller</td>\n",
       "      <td>What a Lovely Day.</td>\n",
       "      <td>future|chase|post-apocalyptic|dystopia|australia</td>\n",
       "      <td>An apocalyptic story set in the furthest reach...</td>\n",
       "      <td>120</td>\n",
       "      <td>Action|Adventure|Science Fiction|Thriller</td>\n",
       "      <td>Village Roadshow Pictures|Kennedy Miller Produ...</td>\n",
       "      <td>5/13/15</td>\n",
       "      <td>6185</td>\n",
       "      <td>7.1</td>\n",
       "      <td>2015</td>\n",
       "      <td>1.379999e+08</td>\n",
       "      <td>3.481613e+08</td>\n",
       "    </tr>\n",
       "    <tr>\n",
       "      <th>2</th>\n",
       "      <td>262500</td>\n",
       "      <td>tt2908446</td>\n",
       "      <td>13.112507</td>\n",
       "      <td>110000000</td>\n",
       "      <td>295238201</td>\n",
       "      <td>Insurgent</td>\n",
       "      <td>Shailene Woodley|Theo James|Kate Winslet|Ansel...</td>\n",
       "      <td>http://www.thedivergentseries.movie/#insurgent</td>\n",
       "      <td>Robert Schwentke</td>\n",
       "      <td>One Choice Can Destroy You</td>\n",
       "      <td>based on novel|revolution|dystopia|sequel|dyst...</td>\n",
       "      <td>Beatrice Prior must confront her inner demons ...</td>\n",
       "      <td>119</td>\n",
       "      <td>Adventure|Science Fiction|Thriller</td>\n",
       "      <td>Summit Entertainment|Mandeville Films|Red Wago...</td>\n",
       "      <td>3/18/15</td>\n",
       "      <td>2480</td>\n",
       "      <td>6.3</td>\n",
       "      <td>2015</td>\n",
       "      <td>1.012000e+08</td>\n",
       "      <td>2.716190e+08</td>\n",
       "    </tr>\n",
       "    <tr>\n",
       "      <th>3</th>\n",
       "      <td>140607</td>\n",
       "      <td>tt2488496</td>\n",
       "      <td>11.173104</td>\n",
       "      <td>200000000</td>\n",
       "      <td>2068178225</td>\n",
       "      <td>Star Wars: The Force Awakens</td>\n",
       "      <td>Harrison Ford|Mark Hamill|Carrie Fisher|Adam D...</td>\n",
       "      <td>http://www.starwars.com/films/star-wars-episod...</td>\n",
       "      <td>J.J. Abrams</td>\n",
       "      <td>Every generation has a story.</td>\n",
       "      <td>android|spaceship|jedi|space opera|3d</td>\n",
       "      <td>Thirty years after defeating the Galactic Empi...</td>\n",
       "      <td>136</td>\n",
       "      <td>Action|Adventure|Science Fiction|Fantasy</td>\n",
       "      <td>Lucasfilm|Truenorth Productions|Bad Robot</td>\n",
       "      <td>12/15/15</td>\n",
       "      <td>5292</td>\n",
       "      <td>7.5</td>\n",
       "      <td>2015</td>\n",
       "      <td>1.839999e+08</td>\n",
       "      <td>1.902723e+09</td>\n",
       "    </tr>\n",
       "    <tr>\n",
       "      <th>4</th>\n",
       "      <td>168259</td>\n",
       "      <td>tt2820852</td>\n",
       "      <td>9.335014</td>\n",
       "      <td>190000000</td>\n",
       "      <td>1506249360</td>\n",
       "      <td>Furious 7</td>\n",
       "      <td>Vin Diesel|Paul Walker|Jason Statham|Michelle ...</td>\n",
       "      <td>http://www.furious7.com/</td>\n",
       "      <td>James Wan</td>\n",
       "      <td>Vengeance Hits Home</td>\n",
       "      <td>car race|speed|revenge|suspense|car</td>\n",
       "      <td>Deckard Shaw seeks revenge against Dominic Tor...</td>\n",
       "      <td>137</td>\n",
       "      <td>Action|Crime|Thriller</td>\n",
       "      <td>Universal Pictures|Original Film|Media Rights ...</td>\n",
       "      <td>4/1/15</td>\n",
       "      <td>2947</td>\n",
       "      <td>7.3</td>\n",
       "      <td>2015</td>\n",
       "      <td>1.747999e+08</td>\n",
       "      <td>1.385749e+09</td>\n",
       "    </tr>\n",
       "  </tbody>\n",
       "</table>\n",
       "</div>"
      ],
      "text/plain": [
       "       id    imdb_id  popularity     budget     revenue  \\\n",
       "0  135397  tt0369610   32.985763  150000000  1513528810   \n",
       "1   76341  tt1392190   28.419936  150000000   378436354   \n",
       "2  262500  tt2908446   13.112507  110000000   295238201   \n",
       "3  140607  tt2488496   11.173104  200000000  2068178225   \n",
       "4  168259  tt2820852    9.335014  190000000  1506249360   \n",
       "\n",
       "                 original_title  \\\n",
       "0                Jurassic World   \n",
       "1            Mad Max: Fury Road   \n",
       "2                     Insurgent   \n",
       "3  Star Wars: The Force Awakens   \n",
       "4                     Furious 7   \n",
       "\n",
       "                                                cast  \\\n",
       "0  Chris Pratt|Bryce Dallas Howard|Irrfan Khan|Vi...   \n",
       "1  Tom Hardy|Charlize Theron|Hugh Keays-Byrne|Nic...   \n",
       "2  Shailene Woodley|Theo James|Kate Winslet|Ansel...   \n",
       "3  Harrison Ford|Mark Hamill|Carrie Fisher|Adam D...   \n",
       "4  Vin Diesel|Paul Walker|Jason Statham|Michelle ...   \n",
       "\n",
       "                                            homepage          director  \\\n",
       "0                      http://www.jurassicworld.com/   Colin Trevorrow   \n",
       "1                        http://www.madmaxmovie.com/     George Miller   \n",
       "2     http://www.thedivergentseries.movie/#insurgent  Robert Schwentke   \n",
       "3  http://www.starwars.com/films/star-wars-episod...       J.J. Abrams   \n",
       "4                           http://www.furious7.com/         James Wan   \n",
       "\n",
       "                         tagline  \\\n",
       "0              The park is open.   \n",
       "1             What a Lovely Day.   \n",
       "2     One Choice Can Destroy You   \n",
       "3  Every generation has a story.   \n",
       "4            Vengeance Hits Home   \n",
       "\n",
       "                                            keywords  \\\n",
       "0  monster|dna|tyrannosaurus rex|velociraptor|island   \n",
       "1   future|chase|post-apocalyptic|dystopia|australia   \n",
       "2  based on novel|revolution|dystopia|sequel|dyst...   \n",
       "3              android|spaceship|jedi|space opera|3d   \n",
       "4                car race|speed|revenge|suspense|car   \n",
       "\n",
       "                                            overview  runtime  \\\n",
       "0  Twenty-two years after the events of Jurassic ...      124   \n",
       "1  An apocalyptic story set in the furthest reach...      120   \n",
       "2  Beatrice Prior must confront her inner demons ...      119   \n",
       "3  Thirty years after defeating the Galactic Empi...      136   \n",
       "4  Deckard Shaw seeks revenge against Dominic Tor...      137   \n",
       "\n",
       "                                      genres  \\\n",
       "0  Action|Adventure|Science Fiction|Thriller   \n",
       "1  Action|Adventure|Science Fiction|Thriller   \n",
       "2         Adventure|Science Fiction|Thriller   \n",
       "3   Action|Adventure|Science Fiction|Fantasy   \n",
       "4                      Action|Crime|Thriller   \n",
       "\n",
       "                                production_companies release_date  vote_count  \\\n",
       "0  Universal Studios|Amblin Entertainment|Legenda...       6/9/15        5562   \n",
       "1  Village Roadshow Pictures|Kennedy Miller Produ...      5/13/15        6185   \n",
       "2  Summit Entertainment|Mandeville Films|Red Wago...      3/18/15        2480   \n",
       "3          Lucasfilm|Truenorth Productions|Bad Robot     12/15/15        5292   \n",
       "4  Universal Pictures|Original Film|Media Rights ...       4/1/15        2947   \n",
       "\n",
       "   vote_average  release_year    budget_adj   revenue_adj  \n",
       "0           6.5          2015  1.379999e+08  1.392446e+09  \n",
       "1           7.1          2015  1.379999e+08  3.481613e+08  \n",
       "2           6.3          2015  1.012000e+08  2.716190e+08  \n",
       "3           7.5          2015  1.839999e+08  1.902723e+09  \n",
       "4           7.3          2015  1.747999e+08  1.385749e+09  "
      ]
     },
     "execution_count": 3,
     "metadata": {},
     "output_type": "execute_result"
    }
   ],
   "source": [
    "# read the dataset and get the first 5 rows\n",
    "\n",
    "df = pd.read_csv(\"tmdb-movies.csv\")\n",
    "df.head()"
   ]
  },
  {
   "cell_type": "code",
   "execution_count": 4,
   "metadata": {},
   "outputs": [
    {
     "data": {
      "text/plain": [
       "(10866, 21)"
      ]
     },
     "execution_count": 4,
     "metadata": {},
     "output_type": "execute_result"
    }
   ],
   "source": [
    "# check the shape of the dataset, to get the number of rows and columns\n",
    "\n",
    "df.shape"
   ]
  },
  {
   "cell_type": "code",
   "execution_count": 5,
   "metadata": {
    "scrolled": false
   },
   "outputs": [
    {
     "name": "stdout",
     "output_type": "stream",
     "text": [
      "<class 'pandas.core.frame.DataFrame'>\n",
      "RangeIndex: 10866 entries, 0 to 10865\n",
      "Data columns (total 21 columns):\n",
      " #   Column                Non-Null Count  Dtype  \n",
      "---  ------                --------------  -----  \n",
      " 0   id                    10866 non-null  int64  \n",
      " 1   imdb_id               10856 non-null  object \n",
      " 2   popularity            10866 non-null  float64\n",
      " 3   budget                10866 non-null  int64  \n",
      " 4   revenue               10866 non-null  int64  \n",
      " 5   original_title        10866 non-null  object \n",
      " 6   cast                  10790 non-null  object \n",
      " 7   homepage              2936 non-null   object \n",
      " 8   director              10822 non-null  object \n",
      " 9   tagline               8042 non-null   object \n",
      " 10  keywords              9373 non-null   object \n",
      " 11  overview              10862 non-null  object \n",
      " 12  runtime               10866 non-null  int64  \n",
      " 13  genres                10843 non-null  object \n",
      " 14  production_companies  9836 non-null   object \n",
      " 15  release_date          10866 non-null  object \n",
      " 16  vote_count            10866 non-null  int64  \n",
      " 17  vote_average          10866 non-null  float64\n",
      " 18  release_year          10866 non-null  int64  \n",
      " 19  budget_adj            10866 non-null  float64\n",
      " 20  revenue_adj           10866 non-null  float64\n",
      "dtypes: float64(4), int64(6), object(11)\n",
      "memory usage: 1.7+ MB\n"
     ]
    }
   ],
   "source": [
    "# get additional information about the datatypes of each rows, to determine if datatypes should be adjusted appropriately \n",
    "# and also to check the number of non-null value\n",
    "\n",
    "df.info()"
   ]
  },
  {
   "cell_type": "markdown",
   "metadata": {},
   "source": [
    "## Data Cleaning"
   ]
  },
  {
   "cell_type": "markdown",
   "metadata": {},
   "source": [
    "> Based on the information derived above, release_date column is formated as _object_. The datatype will be changed to _datetime_"
   ]
  },
  {
   "cell_type": "code",
   "execution_count": 6,
   "metadata": {},
   "outputs": [
    {
     "name": "stdout",
     "output_type": "stream",
     "text": [
      "<class 'pandas.core.frame.DataFrame'>\n",
      "RangeIndex: 10866 entries, 0 to 10865\n",
      "Data columns (total 21 columns):\n",
      " #   Column                Non-Null Count  Dtype         \n",
      "---  ------                --------------  -----         \n",
      " 0   id                    10866 non-null  int64         \n",
      " 1   imdb_id               10856 non-null  object        \n",
      " 2   popularity            10866 non-null  float64       \n",
      " 3   budget                10866 non-null  int64         \n",
      " 4   revenue               10866 non-null  int64         \n",
      " 5   original_title        10866 non-null  object        \n",
      " 6   cast                  10790 non-null  object        \n",
      " 7   homepage              2936 non-null   object        \n",
      " 8   director              10822 non-null  object        \n",
      " 9   tagline               8042 non-null   object        \n",
      " 10  keywords              9373 non-null   object        \n",
      " 11  overview              10862 non-null  object        \n",
      " 12  runtime               10866 non-null  int64         \n",
      " 13  genres                10843 non-null  object        \n",
      " 14  production_companies  9836 non-null   object        \n",
      " 15  release_date          10866 non-null  datetime64[ns]\n",
      " 16  vote_count            10866 non-null  int64         \n",
      " 17  vote_average          10866 non-null  float64       \n",
      " 18  release_year          10866 non-null  int64         \n",
      " 19  budget_adj            10866 non-null  float64       \n",
      " 20  revenue_adj           10866 non-null  float64       \n",
      "dtypes: datetime64[ns](1), float64(4), int64(6), object(10)\n",
      "memory usage: 1.7+ MB\n"
     ]
    }
   ],
   "source": [
    "df[\"release_date\"] = df[\"release_date\"].astype(\"datetime64[ns]\")\n",
    "\n",
    "df.info()"
   ]
  },
  {
   "cell_type": "code",
   "execution_count": 7,
   "metadata": {
    "scrolled": false
   },
   "outputs": [
    {
     "data": {
      "text/plain": [
       "id                         0\n",
       "imdb_id                   10\n",
       "popularity                 0\n",
       "budget                     0\n",
       "revenue                    0\n",
       "original_title             0\n",
       "cast                      76\n",
       "homepage                7930\n",
       "director                  44\n",
       "tagline                 2824\n",
       "keywords                1493\n",
       "overview                   4\n",
       "runtime                    0\n",
       "genres                    23\n",
       "production_companies    1030\n",
       "release_date               0\n",
       "vote_count                 0\n",
       "vote_average               0\n",
       "release_year               0\n",
       "budget_adj                 0\n",
       "revenue_adj                0\n",
       "dtype: int64"
      ]
     },
     "execution_count": 7,
     "metadata": {},
     "output_type": "execute_result"
    }
   ],
   "source": [
    "# to check the number of missing values in each columns\n",
    "\n",
    "df.isnull().sum()"
   ]
  },
  {
   "cell_type": "code",
   "execution_count": 8,
   "metadata": {},
   "outputs": [],
   "source": [
    "df.drop([\"id\", \"imdb_id\", \"homepage\", \"tagline\",\"keywords\", \"overview\"], axis = 1, inplace = True)"
   ]
  },
  {
   "cell_type": "markdown",
   "metadata": {},
   "source": [
    "> Some rows were dropped because they have no effect on the aim of this project (to check how sucessful a movie is), while some were dropped because they are similar to other columns in the dataset."
   ]
  },
  {
   "cell_type": "code",
   "execution_count": 9,
   "metadata": {},
   "outputs": [
    {
     "data": {
      "text/plain": [
       "popularity                 0\n",
       "budget                     0\n",
       "revenue                    0\n",
       "original_title             0\n",
       "cast                      76\n",
       "director                  44\n",
       "runtime                    0\n",
       "genres                    23\n",
       "production_companies    1030\n",
       "release_date               0\n",
       "vote_count                 0\n",
       "vote_average               0\n",
       "release_year               0\n",
       "budget_adj                 0\n",
       "revenue_adj                0\n",
       "dtype: int64"
      ]
     },
     "execution_count": 9,
     "metadata": {},
     "output_type": "execute_result"
    }
   ],
   "source": [
    "# to check the sum of missing values for each columns after the necessary rows have been dropped \n",
    "\n",
    "df.isnull().sum()"
   ]
  },
  {
   "cell_type": "code",
   "execution_count": 10,
   "metadata": {},
   "outputs": [
    {
     "data": {
      "text/plain": [
       "1"
      ]
     },
     "execution_count": 10,
     "metadata": {},
     "output_type": "execute_result"
    }
   ],
   "source": [
    "# check for duplicates\n",
    "\n",
    "df.duplicated().sum()"
   ]
  },
  {
   "cell_type": "code",
   "execution_count": 11,
   "metadata": {},
   "outputs": [
    {
     "data": {
      "text/html": [
       "<div>\n",
       "<style scoped>\n",
       "    .dataframe tbody tr th:only-of-type {\n",
       "        vertical-align: middle;\n",
       "    }\n",
       "\n",
       "    .dataframe tbody tr th {\n",
       "        vertical-align: top;\n",
       "    }\n",
       "\n",
       "    .dataframe thead th {\n",
       "        text-align: right;\n",
       "    }\n",
       "</style>\n",
       "<table border=\"1\" class=\"dataframe\">\n",
       "  <thead>\n",
       "    <tr style=\"text-align: right;\">\n",
       "      <th></th>\n",
       "      <th>popularity</th>\n",
       "      <th>budget</th>\n",
       "      <th>revenue</th>\n",
       "      <th>original_title</th>\n",
       "      <th>cast</th>\n",
       "      <th>director</th>\n",
       "      <th>runtime</th>\n",
       "      <th>genres</th>\n",
       "      <th>production_companies</th>\n",
       "      <th>release_date</th>\n",
       "      <th>vote_count</th>\n",
       "      <th>vote_average</th>\n",
       "      <th>release_year</th>\n",
       "      <th>budget_adj</th>\n",
       "      <th>revenue_adj</th>\n",
       "    </tr>\n",
       "  </thead>\n",
       "  <tbody>\n",
       "    <tr>\n",
       "      <th>0</th>\n",
       "      <td>32.985763</td>\n",
       "      <td>150000000</td>\n",
       "      <td>1513528810</td>\n",
       "      <td>Jurassic World</td>\n",
       "      <td>Chris Pratt|Bryce Dallas Howard|Irrfan Khan|Vi...</td>\n",
       "      <td>Colin Trevorrow</td>\n",
       "      <td>124</td>\n",
       "      <td>Action|Adventure|Science Fiction|Thriller</td>\n",
       "      <td>Universal Studios|Amblin Entertainment|Legenda...</td>\n",
       "      <td>2015-06-09</td>\n",
       "      <td>5562</td>\n",
       "      <td>6.5</td>\n",
       "      <td>2015</td>\n",
       "      <td>1.379999e+08</td>\n",
       "      <td>1.392446e+09</td>\n",
       "    </tr>\n",
       "    <tr>\n",
       "      <th>1</th>\n",
       "      <td>28.419936</td>\n",
       "      <td>150000000</td>\n",
       "      <td>378436354</td>\n",
       "      <td>Mad Max: Fury Road</td>\n",
       "      <td>Tom Hardy|Charlize Theron|Hugh Keays-Byrne|Nic...</td>\n",
       "      <td>George Miller</td>\n",
       "      <td>120</td>\n",
       "      <td>Action|Adventure|Science Fiction|Thriller</td>\n",
       "      <td>Village Roadshow Pictures|Kennedy Miller Produ...</td>\n",
       "      <td>2015-05-13</td>\n",
       "      <td>6185</td>\n",
       "      <td>7.1</td>\n",
       "      <td>2015</td>\n",
       "      <td>1.379999e+08</td>\n",
       "      <td>3.481613e+08</td>\n",
       "    </tr>\n",
       "    <tr>\n",
       "      <th>2</th>\n",
       "      <td>13.112507</td>\n",
       "      <td>110000000</td>\n",
       "      <td>295238201</td>\n",
       "      <td>Insurgent</td>\n",
       "      <td>Shailene Woodley|Theo James|Kate Winslet|Ansel...</td>\n",
       "      <td>Robert Schwentke</td>\n",
       "      <td>119</td>\n",
       "      <td>Adventure|Science Fiction|Thriller</td>\n",
       "      <td>Summit Entertainment|Mandeville Films|Red Wago...</td>\n",
       "      <td>2015-03-18</td>\n",
       "      <td>2480</td>\n",
       "      <td>6.3</td>\n",
       "      <td>2015</td>\n",
       "      <td>1.012000e+08</td>\n",
       "      <td>2.716190e+08</td>\n",
       "    </tr>\n",
       "    <tr>\n",
       "      <th>3</th>\n",
       "      <td>11.173104</td>\n",
       "      <td>200000000</td>\n",
       "      <td>2068178225</td>\n",
       "      <td>Star Wars: The Force Awakens</td>\n",
       "      <td>Harrison Ford|Mark Hamill|Carrie Fisher|Adam D...</td>\n",
       "      <td>J.J. Abrams</td>\n",
       "      <td>136</td>\n",
       "      <td>Action|Adventure|Science Fiction|Fantasy</td>\n",
       "      <td>Lucasfilm|Truenorth Productions|Bad Robot</td>\n",
       "      <td>2015-12-15</td>\n",
       "      <td>5292</td>\n",
       "      <td>7.5</td>\n",
       "      <td>2015</td>\n",
       "      <td>1.839999e+08</td>\n",
       "      <td>1.902723e+09</td>\n",
       "    </tr>\n",
       "    <tr>\n",
       "      <th>4</th>\n",
       "      <td>9.335014</td>\n",
       "      <td>190000000</td>\n",
       "      <td>1506249360</td>\n",
       "      <td>Furious 7</td>\n",
       "      <td>Vin Diesel|Paul Walker|Jason Statham|Michelle ...</td>\n",
       "      <td>James Wan</td>\n",
       "      <td>137</td>\n",
       "      <td>Action|Crime|Thriller</td>\n",
       "      <td>Universal Pictures|Original Film|Media Rights ...</td>\n",
       "      <td>2015-04-01</td>\n",
       "      <td>2947</td>\n",
       "      <td>7.3</td>\n",
       "      <td>2015</td>\n",
       "      <td>1.747999e+08</td>\n",
       "      <td>1.385749e+09</td>\n",
       "    </tr>\n",
       "    <tr>\n",
       "      <th>...</th>\n",
       "      <td>...</td>\n",
       "      <td>...</td>\n",
       "      <td>...</td>\n",
       "      <td>...</td>\n",
       "      <td>...</td>\n",
       "      <td>...</td>\n",
       "      <td>...</td>\n",
       "      <td>...</td>\n",
       "      <td>...</td>\n",
       "      <td>...</td>\n",
       "      <td>...</td>\n",
       "      <td>...</td>\n",
       "      <td>...</td>\n",
       "      <td>...</td>\n",
       "      <td>...</td>\n",
       "    </tr>\n",
       "    <tr>\n",
       "      <th>10861</th>\n",
       "      <td>0.080598</td>\n",
       "      <td>0</td>\n",
       "      <td>0</td>\n",
       "      <td>The Endless Summer</td>\n",
       "      <td>Michael Hynson|Robert August|Lord 'Tally Ho' B...</td>\n",
       "      <td>Bruce Brown</td>\n",
       "      <td>95</td>\n",
       "      <td>Documentary</td>\n",
       "      <td>Bruce Brown Films</td>\n",
       "      <td>2066-06-15</td>\n",
       "      <td>11</td>\n",
       "      <td>7.4</td>\n",
       "      <td>1966</td>\n",
       "      <td>0.000000e+00</td>\n",
       "      <td>0.000000e+00</td>\n",
       "    </tr>\n",
       "    <tr>\n",
       "      <th>10862</th>\n",
       "      <td>0.065543</td>\n",
       "      <td>0</td>\n",
       "      <td>0</td>\n",
       "      <td>Grand Prix</td>\n",
       "      <td>James Garner|Eva Marie Saint|Yves Montand|Tosh...</td>\n",
       "      <td>John Frankenheimer</td>\n",
       "      <td>176</td>\n",
       "      <td>Action|Adventure|Drama</td>\n",
       "      <td>Cherokee Productions|Joel Productions|Douglas ...</td>\n",
       "      <td>2066-12-21</td>\n",
       "      <td>20</td>\n",
       "      <td>5.7</td>\n",
       "      <td>1966</td>\n",
       "      <td>0.000000e+00</td>\n",
       "      <td>0.000000e+00</td>\n",
       "    </tr>\n",
       "    <tr>\n",
       "      <th>10863</th>\n",
       "      <td>0.065141</td>\n",
       "      <td>0</td>\n",
       "      <td>0</td>\n",
       "      <td>Beregis Avtomobilya</td>\n",
       "      <td>Innokentiy Smoktunovskiy|Oleg Efremov|Georgi Z...</td>\n",
       "      <td>Eldar Ryazanov</td>\n",
       "      <td>94</td>\n",
       "      <td>Mystery|Comedy</td>\n",
       "      <td>Mosfilm</td>\n",
       "      <td>2066-01-01</td>\n",
       "      <td>11</td>\n",
       "      <td>6.5</td>\n",
       "      <td>1966</td>\n",
       "      <td>0.000000e+00</td>\n",
       "      <td>0.000000e+00</td>\n",
       "    </tr>\n",
       "    <tr>\n",
       "      <th>10864</th>\n",
       "      <td>0.064317</td>\n",
       "      <td>0</td>\n",
       "      <td>0</td>\n",
       "      <td>What's Up, Tiger Lily?</td>\n",
       "      <td>Tatsuya Mihashi|Akiko Wakabayashi|Mie Hama|Joh...</td>\n",
       "      <td>Woody Allen</td>\n",
       "      <td>80</td>\n",
       "      <td>Action|Comedy</td>\n",
       "      <td>Benedict Pictures Corp.</td>\n",
       "      <td>2066-11-02</td>\n",
       "      <td>22</td>\n",
       "      <td>5.4</td>\n",
       "      <td>1966</td>\n",
       "      <td>0.000000e+00</td>\n",
       "      <td>0.000000e+00</td>\n",
       "    </tr>\n",
       "    <tr>\n",
       "      <th>10865</th>\n",
       "      <td>0.035919</td>\n",
       "      <td>19000</td>\n",
       "      <td>0</td>\n",
       "      <td>Manos: The Hands of Fate</td>\n",
       "      <td>Harold P. Warren|Tom Neyman|John Reynolds|Dian...</td>\n",
       "      <td>Harold P. Warren</td>\n",
       "      <td>74</td>\n",
       "      <td>Horror</td>\n",
       "      <td>Norm-Iris</td>\n",
       "      <td>2066-11-15</td>\n",
       "      <td>15</td>\n",
       "      <td>1.5</td>\n",
       "      <td>1966</td>\n",
       "      <td>1.276423e+05</td>\n",
       "      <td>0.000000e+00</td>\n",
       "    </tr>\n",
       "  </tbody>\n",
       "</table>\n",
       "<p>10865 rows × 15 columns</p>\n",
       "</div>"
      ],
      "text/plain": [
       "       popularity     budget     revenue                original_title  \\\n",
       "0       32.985763  150000000  1513528810                Jurassic World   \n",
       "1       28.419936  150000000   378436354            Mad Max: Fury Road   \n",
       "2       13.112507  110000000   295238201                     Insurgent   \n",
       "3       11.173104  200000000  2068178225  Star Wars: The Force Awakens   \n",
       "4        9.335014  190000000  1506249360                     Furious 7   \n",
       "...           ...        ...         ...                           ...   \n",
       "10861    0.080598          0           0            The Endless Summer   \n",
       "10862    0.065543          0           0                    Grand Prix   \n",
       "10863    0.065141          0           0           Beregis Avtomobilya   \n",
       "10864    0.064317          0           0        What's Up, Tiger Lily?   \n",
       "10865    0.035919      19000           0      Manos: The Hands of Fate   \n",
       "\n",
       "                                                    cast            director  \\\n",
       "0      Chris Pratt|Bryce Dallas Howard|Irrfan Khan|Vi...     Colin Trevorrow   \n",
       "1      Tom Hardy|Charlize Theron|Hugh Keays-Byrne|Nic...       George Miller   \n",
       "2      Shailene Woodley|Theo James|Kate Winslet|Ansel...    Robert Schwentke   \n",
       "3      Harrison Ford|Mark Hamill|Carrie Fisher|Adam D...         J.J. Abrams   \n",
       "4      Vin Diesel|Paul Walker|Jason Statham|Michelle ...           James Wan   \n",
       "...                                                  ...                 ...   \n",
       "10861  Michael Hynson|Robert August|Lord 'Tally Ho' B...         Bruce Brown   \n",
       "10862  James Garner|Eva Marie Saint|Yves Montand|Tosh...  John Frankenheimer   \n",
       "10863  Innokentiy Smoktunovskiy|Oleg Efremov|Georgi Z...      Eldar Ryazanov   \n",
       "10864  Tatsuya Mihashi|Akiko Wakabayashi|Mie Hama|Joh...         Woody Allen   \n",
       "10865  Harold P. Warren|Tom Neyman|John Reynolds|Dian...    Harold P. Warren   \n",
       "\n",
       "       runtime                                     genres  \\\n",
       "0          124  Action|Adventure|Science Fiction|Thriller   \n",
       "1          120  Action|Adventure|Science Fiction|Thriller   \n",
       "2          119         Adventure|Science Fiction|Thriller   \n",
       "3          136   Action|Adventure|Science Fiction|Fantasy   \n",
       "4          137                      Action|Crime|Thriller   \n",
       "...        ...                                        ...   \n",
       "10861       95                                Documentary   \n",
       "10862      176                     Action|Adventure|Drama   \n",
       "10863       94                             Mystery|Comedy   \n",
       "10864       80                              Action|Comedy   \n",
       "10865       74                                     Horror   \n",
       "\n",
       "                                    production_companies release_date  \\\n",
       "0      Universal Studios|Amblin Entertainment|Legenda...   2015-06-09   \n",
       "1      Village Roadshow Pictures|Kennedy Miller Produ...   2015-05-13   \n",
       "2      Summit Entertainment|Mandeville Films|Red Wago...   2015-03-18   \n",
       "3              Lucasfilm|Truenorth Productions|Bad Robot   2015-12-15   \n",
       "4      Universal Pictures|Original Film|Media Rights ...   2015-04-01   \n",
       "...                                                  ...          ...   \n",
       "10861                                  Bruce Brown Films   2066-06-15   \n",
       "10862  Cherokee Productions|Joel Productions|Douglas ...   2066-12-21   \n",
       "10863                                            Mosfilm   2066-01-01   \n",
       "10864                            Benedict Pictures Corp.   2066-11-02   \n",
       "10865                                          Norm-Iris   2066-11-15   \n",
       "\n",
       "       vote_count  vote_average  release_year    budget_adj   revenue_adj  \n",
       "0            5562           6.5          2015  1.379999e+08  1.392446e+09  \n",
       "1            6185           7.1          2015  1.379999e+08  3.481613e+08  \n",
       "2            2480           6.3          2015  1.012000e+08  2.716190e+08  \n",
       "3            5292           7.5          2015  1.839999e+08  1.902723e+09  \n",
       "4            2947           7.3          2015  1.747999e+08  1.385749e+09  \n",
       "...           ...           ...           ...           ...           ...  \n",
       "10861          11           7.4          1966  0.000000e+00  0.000000e+00  \n",
       "10862          20           5.7          1966  0.000000e+00  0.000000e+00  \n",
       "10863          11           6.5          1966  0.000000e+00  0.000000e+00  \n",
       "10864          22           5.4          1966  0.000000e+00  0.000000e+00  \n",
       "10865          15           1.5          1966  1.276423e+05  0.000000e+00  \n",
       "\n",
       "[10865 rows x 15 columns]"
      ]
     },
     "execution_count": 11,
     "metadata": {},
     "output_type": "execute_result"
    }
   ],
   "source": [
    "# drop duplicates\n",
    "\n",
    "df.drop_duplicates(subset=None, keep='first', inplace=False)"
   ]
  },
  {
   "cell_type": "code",
   "execution_count": 12,
   "metadata": {},
   "outputs": [
    {
     "data": {
      "text/html": [
       "<div>\n",
       "<style scoped>\n",
       "    .dataframe tbody tr th:only-of-type {\n",
       "        vertical-align: middle;\n",
       "    }\n",
       "\n",
       "    .dataframe tbody tr th {\n",
       "        vertical-align: top;\n",
       "    }\n",
       "\n",
       "    .dataframe thead th {\n",
       "        text-align: right;\n",
       "    }\n",
       "</style>\n",
       "<table border=\"1\" class=\"dataframe\">\n",
       "  <thead>\n",
       "    <tr style=\"text-align: right;\">\n",
       "      <th></th>\n",
       "      <th>count</th>\n",
       "      <th>mean</th>\n",
       "      <th>std</th>\n",
       "      <th>min</th>\n",
       "      <th>25%</th>\n",
       "      <th>50%</th>\n",
       "      <th>75%</th>\n",
       "      <th>max</th>\n",
       "    </tr>\n",
       "  </thead>\n",
       "  <tbody>\n",
       "    <tr>\n",
       "      <th>popularity</th>\n",
       "      <td>10866.0</td>\n",
       "      <td>6.464410e-01</td>\n",
       "      <td>1.000185e+00</td>\n",
       "      <td>0.000065</td>\n",
       "      <td>0.207583</td>\n",
       "      <td>0.383856</td>\n",
       "      <td>7.138170e-01</td>\n",
       "      <td>3.298576e+01</td>\n",
       "    </tr>\n",
       "    <tr>\n",
       "      <th>budget</th>\n",
       "      <td>10866.0</td>\n",
       "      <td>1.462570e+07</td>\n",
       "      <td>3.091321e+07</td>\n",
       "      <td>0.000000</td>\n",
       "      <td>0.000000</td>\n",
       "      <td>0.000000</td>\n",
       "      <td>1.500000e+07</td>\n",
       "      <td>4.250000e+08</td>\n",
       "    </tr>\n",
       "    <tr>\n",
       "      <th>revenue</th>\n",
       "      <td>10866.0</td>\n",
       "      <td>3.982332e+07</td>\n",
       "      <td>1.170035e+08</td>\n",
       "      <td>0.000000</td>\n",
       "      <td>0.000000</td>\n",
       "      <td>0.000000</td>\n",
       "      <td>2.400000e+07</td>\n",
       "      <td>2.781506e+09</td>\n",
       "    </tr>\n",
       "    <tr>\n",
       "      <th>runtime</th>\n",
       "      <td>10866.0</td>\n",
       "      <td>1.020709e+02</td>\n",
       "      <td>3.138141e+01</td>\n",
       "      <td>0.000000</td>\n",
       "      <td>90.000000</td>\n",
       "      <td>99.000000</td>\n",
       "      <td>1.110000e+02</td>\n",
       "      <td>9.000000e+02</td>\n",
       "    </tr>\n",
       "    <tr>\n",
       "      <th>vote_count</th>\n",
       "      <td>10866.0</td>\n",
       "      <td>2.173897e+02</td>\n",
       "      <td>5.756191e+02</td>\n",
       "      <td>10.000000</td>\n",
       "      <td>17.000000</td>\n",
       "      <td>38.000000</td>\n",
       "      <td>1.457500e+02</td>\n",
       "      <td>9.767000e+03</td>\n",
       "    </tr>\n",
       "    <tr>\n",
       "      <th>vote_average</th>\n",
       "      <td>10866.0</td>\n",
       "      <td>5.974922e+00</td>\n",
       "      <td>9.351418e-01</td>\n",
       "      <td>1.500000</td>\n",
       "      <td>5.400000</td>\n",
       "      <td>6.000000</td>\n",
       "      <td>6.600000e+00</td>\n",
       "      <td>9.200000e+00</td>\n",
       "    </tr>\n",
       "    <tr>\n",
       "      <th>release_year</th>\n",
       "      <td>10866.0</td>\n",
       "      <td>2.001323e+03</td>\n",
       "      <td>1.281294e+01</td>\n",
       "      <td>1960.000000</td>\n",
       "      <td>1995.000000</td>\n",
       "      <td>2006.000000</td>\n",
       "      <td>2.011000e+03</td>\n",
       "      <td>2.015000e+03</td>\n",
       "    </tr>\n",
       "    <tr>\n",
       "      <th>budget_adj</th>\n",
       "      <td>10866.0</td>\n",
       "      <td>1.755104e+07</td>\n",
       "      <td>3.430616e+07</td>\n",
       "      <td>0.000000</td>\n",
       "      <td>0.000000</td>\n",
       "      <td>0.000000</td>\n",
       "      <td>2.085325e+07</td>\n",
       "      <td>4.250000e+08</td>\n",
       "    </tr>\n",
       "    <tr>\n",
       "      <th>revenue_adj</th>\n",
       "      <td>10866.0</td>\n",
       "      <td>5.136436e+07</td>\n",
       "      <td>1.446325e+08</td>\n",
       "      <td>0.000000</td>\n",
       "      <td>0.000000</td>\n",
       "      <td>0.000000</td>\n",
       "      <td>3.369710e+07</td>\n",
       "      <td>2.827124e+09</td>\n",
       "    </tr>\n",
       "  </tbody>\n",
       "</table>\n",
       "</div>"
      ],
      "text/plain": [
       "                count          mean           std          min          25%  \\\n",
       "popularity    10866.0  6.464410e-01  1.000185e+00     0.000065     0.207583   \n",
       "budget        10866.0  1.462570e+07  3.091321e+07     0.000000     0.000000   \n",
       "revenue       10866.0  3.982332e+07  1.170035e+08     0.000000     0.000000   \n",
       "runtime       10866.0  1.020709e+02  3.138141e+01     0.000000    90.000000   \n",
       "vote_count    10866.0  2.173897e+02  5.756191e+02    10.000000    17.000000   \n",
       "vote_average  10866.0  5.974922e+00  9.351418e-01     1.500000     5.400000   \n",
       "release_year  10866.0  2.001323e+03  1.281294e+01  1960.000000  1995.000000   \n",
       "budget_adj    10866.0  1.755104e+07  3.430616e+07     0.000000     0.000000   \n",
       "revenue_adj   10866.0  5.136436e+07  1.446325e+08     0.000000     0.000000   \n",
       "\n",
       "                      50%           75%           max  \n",
       "popularity       0.383856  7.138170e-01  3.298576e+01  \n",
       "budget           0.000000  1.500000e+07  4.250000e+08  \n",
       "revenue          0.000000  2.400000e+07  2.781506e+09  \n",
       "runtime         99.000000  1.110000e+02  9.000000e+02  \n",
       "vote_count      38.000000  1.457500e+02  9.767000e+03  \n",
       "vote_average     6.000000  6.600000e+00  9.200000e+00  \n",
       "release_year  2006.000000  2.011000e+03  2.015000e+03  \n",
       "budget_adj       0.000000  2.085325e+07  4.250000e+08  \n",
       "revenue_adj      0.000000  3.369710e+07  2.827124e+09  "
      ]
     },
     "execution_count": 12,
     "metadata": {},
     "output_type": "execute_result"
    }
   ],
   "source": [
    "# check a brief statistics of numerical values (main aim is to check the minimum values for both budget and revenue)\n",
    "\n",
    "df.describe().transpose()"
   ]
  },
  {
   "cell_type": "code",
   "execution_count": 13,
   "metadata": {},
   "outputs": [
    {
     "data": {
      "text/plain": [
       "4701"
      ]
     },
     "execution_count": 13,
     "metadata": {},
     "output_type": "execute_result"
    }
   ],
   "source": [
    "# remove rows have both budget and revenue as zeros \n",
    "# because we are trying to check how much revenue a movie generates (success of a movie).\n",
    "\n",
    "\n",
    "zero_bud_rev = df.query(\"budget == 0 and revenue == 0\")\n",
    "\n",
    "len(zero_bud_rev)"
   ]
  },
  {
   "cell_type": "code",
   "execution_count": 14,
   "metadata": {},
   "outputs": [],
   "source": [
    "# drop index of zero budget and revenue from the dataset\n",
    "\n",
    "df.drop(zero_bud_rev.index, inplace = True)"
   ]
  },
  {
   "cell_type": "code",
   "execution_count": 15,
   "metadata": {},
   "outputs": [
    {
     "data": {
      "text/plain": [
       "popularity                0\n",
       "budget                    0\n",
       "revenue                   0\n",
       "original_title            0\n",
       "cast                     12\n",
       "director                  4\n",
       "runtime                   0\n",
       "genres                    1\n",
       "production_companies    186\n",
       "release_date              0\n",
       "vote_count                0\n",
       "vote_average              0\n",
       "release_year              0\n",
       "budget_adj                0\n",
       "revenue_adj               0\n",
       "dtype: int64"
      ]
     },
     "execution_count": 15,
     "metadata": {},
     "output_type": "execute_result"
    }
   ],
   "source": [
    "# check the sum of missing rows for each columns\n",
    "\n",
    "df.isnull().sum()"
   ]
  },
  {
   "cell_type": "code",
   "execution_count": 16,
   "metadata": {},
   "outputs": [
    {
     "data": {
      "text/plain": [
       "(6165, 15)"
      ]
     },
     "execution_count": 16,
     "metadata": {},
     "output_type": "execute_result"
    }
   ],
   "source": [
    "# check the new shape\n",
    "\n",
    "df.shape"
   ]
  },
  {
   "cell_type": "code",
   "execution_count": 17,
   "metadata": {},
   "outputs": [
    {
     "name": "stdout",
     "output_type": "stream",
     "text": [
      "995\n",
      "1315\n"
     ]
    }
   ],
   "source": [
    "# to get the rows with budget and revenue as zero each and get the length\n",
    "\n",
    "budget_zero = df.query(\"budget == 0\")\n",
    "revenue_zero = df.query(\"revenue == 0\")\n",
    "\n",
    "print(len(budget_zero))\n",
    "print(len(revenue_zero))"
   ]
  },
  {
   "cell_type": "code",
   "execution_count": 18,
   "metadata": {},
   "outputs": [],
   "source": [
    "# drop rows with revenue == 0, because it does not help in determining the success of a movie\n",
    "\n",
    "df.drop(revenue_zero.index, inplace = True)"
   ]
  },
  {
   "cell_type": "code",
   "execution_count": 19,
   "metadata": {},
   "outputs": [
    {
     "data": {
      "text/html": [
       "<div>\n",
       "<style scoped>\n",
       "    .dataframe tbody tr th:only-of-type {\n",
       "        vertical-align: middle;\n",
       "    }\n",
       "\n",
       "    .dataframe tbody tr th {\n",
       "        vertical-align: top;\n",
       "    }\n",
       "\n",
       "    .dataframe thead th {\n",
       "        text-align: right;\n",
       "    }\n",
       "</style>\n",
       "<table border=\"1\" class=\"dataframe\">\n",
       "  <thead>\n",
       "    <tr style=\"text-align: right;\">\n",
       "      <th></th>\n",
       "      <th>popularity</th>\n",
       "      <th>budget</th>\n",
       "      <th>revenue</th>\n",
       "      <th>original_title</th>\n",
       "      <th>cast</th>\n",
       "      <th>director</th>\n",
       "      <th>runtime</th>\n",
       "      <th>genres</th>\n",
       "      <th>production_companies</th>\n",
       "      <th>release_date</th>\n",
       "      <th>vote_count</th>\n",
       "      <th>vote_average</th>\n",
       "      <th>release_year</th>\n",
       "      <th>budget_adj</th>\n",
       "      <th>revenue_adj</th>\n",
       "    </tr>\n",
       "  </thead>\n",
       "  <tbody>\n",
       "    <tr>\n",
       "      <th>1088</th>\n",
       "      <td>0.226028</td>\n",
       "      <td>0</td>\n",
       "      <td>1503616</td>\n",
       "      <td>Finding Vivian Maier</td>\n",
       "      <td>NaN</td>\n",
       "      <td>John Maloof|Charlie Siskel</td>\n",
       "      <td>83</td>\n",
       "      <td>Documentary</td>\n",
       "      <td>NaN</td>\n",
       "      <td>2014-03-28</td>\n",
       "      <td>70</td>\n",
       "      <td>7.8</td>\n",
       "      <td>2014</td>\n",
       "      <td>0.000000e+00</td>\n",
       "      <td>1.384967e+06</td>\n",
       "    </tr>\n",
       "    <tr>\n",
       "      <th>4127</th>\n",
       "      <td>0.193929</td>\n",
       "      <td>3000000</td>\n",
       "      <td>13308</td>\n",
       "      <td>Naqoyqatsi</td>\n",
       "      <td>NaN</td>\n",
       "      <td>Godfrey Reggio</td>\n",
       "      <td>89</td>\n",
       "      <td>Documentary|Drama|Music|Thriller</td>\n",
       "      <td>Qatsi Productions</td>\n",
       "      <td>2002-09-02</td>\n",
       "      <td>20</td>\n",
       "      <td>6.0</td>\n",
       "      <td>2002</td>\n",
       "      <td>3.636784e+06</td>\n",
       "      <td>1.613277e+04</td>\n",
       "    </tr>\n",
       "    <tr>\n",
       "      <th>4889</th>\n",
       "      <td>0.075043</td>\n",
       "      <td>2500000</td>\n",
       "      <td>33400000</td>\n",
       "      <td>2016: Obama's America</td>\n",
       "      <td>NaN</td>\n",
       "      <td>Dinesh D'Souza|John Sullivan</td>\n",
       "      <td>87</td>\n",
       "      <td>Documentary</td>\n",
       "      <td>NaN</td>\n",
       "      <td>2012-07-13</td>\n",
       "      <td>11</td>\n",
       "      <td>4.7</td>\n",
       "      <td>2012</td>\n",
       "      <td>2.374361e+06</td>\n",
       "      <td>3.172146e+07</td>\n",
       "    </tr>\n",
       "    <tr>\n",
       "      <th>7813</th>\n",
       "      <td>0.065543</td>\n",
       "      <td>6000</td>\n",
       "      <td>6000</td>\n",
       "      <td>Loose Change: Final Cut</td>\n",
       "      <td>NaN</td>\n",
       "      <td>Dylan Avery</td>\n",
       "      <td>129</td>\n",
       "      <td>Documentary</td>\n",
       "      <td>Louder Than Words</td>\n",
       "      <td>2007-11-11</td>\n",
       "      <td>12</td>\n",
       "      <td>5.1</td>\n",
       "      <td>2007</td>\n",
       "      <td>6.310011e+03</td>\n",
       "      <td>6.310011e+03</td>\n",
       "    </tr>\n",
       "    <tr>\n",
       "      <th>9564</th>\n",
       "      <td>0.168545</td>\n",
       "      <td>2500000</td>\n",
       "      <td>589244</td>\n",
       "      <td>Powaqqatsi</td>\n",
       "      <td>NaN</td>\n",
       "      <td>Godfrey Reggio</td>\n",
       "      <td>99</td>\n",
       "      <td>Documentary|Drama|Music</td>\n",
       "      <td>NaN</td>\n",
       "      <td>1988-04-29</td>\n",
       "      <td>18</td>\n",
       "      <td>7.2</td>\n",
       "      <td>1988</td>\n",
       "      <td>4.609728e+06</td>\n",
       "      <td>1.086502e+06</td>\n",
       "    </tr>\n",
       "  </tbody>\n",
       "</table>\n",
       "</div>"
      ],
      "text/plain": [
       "      popularity   budget   revenue           original_title cast  \\\n",
       "1088    0.226028        0   1503616     Finding Vivian Maier  NaN   \n",
       "4127    0.193929  3000000     13308               Naqoyqatsi  NaN   \n",
       "4889    0.075043  2500000  33400000    2016: Obama's America  NaN   \n",
       "7813    0.065543     6000      6000  Loose Change: Final Cut  NaN   \n",
       "9564    0.168545  2500000    589244               Powaqqatsi  NaN   \n",
       "\n",
       "                          director  runtime                            genres  \\\n",
       "1088    John Maloof|Charlie Siskel       83                       Documentary   \n",
       "4127                Godfrey Reggio       89  Documentary|Drama|Music|Thriller   \n",
       "4889  Dinesh D'Souza|John Sullivan       87                       Documentary   \n",
       "7813                   Dylan Avery      129                       Documentary   \n",
       "9564                Godfrey Reggio       99           Documentary|Drama|Music   \n",
       "\n",
       "     production_companies release_date  vote_count  vote_average  \\\n",
       "1088                  NaN   2014-03-28          70           7.8   \n",
       "4127    Qatsi Productions   2002-09-02          20           6.0   \n",
       "4889                  NaN   2012-07-13          11           4.7   \n",
       "7813    Louder Than Words   2007-11-11          12           5.1   \n",
       "9564                  NaN   1988-04-29          18           7.2   \n",
       "\n",
       "      release_year    budget_adj   revenue_adj  \n",
       "1088          2014  0.000000e+00  1.384967e+06  \n",
       "4127          2002  3.636784e+06  1.613277e+04  \n",
       "4889          2012  2.374361e+06  3.172146e+07  \n",
       "7813          2007  6.310011e+03  6.310011e+03  \n",
       "9564          1988  4.609728e+06  1.086502e+06  "
      ]
     },
     "execution_count": 19,
     "metadata": {},
     "output_type": "execute_result"
    }
   ],
   "source": [
    "df[df[\"cast\"].isnull()]"
   ]
  },
  {
   "cell_type": "code",
   "execution_count": 20,
   "metadata": {},
   "outputs": [
    {
     "data": {
      "text/plain": [
       "False"
      ]
     },
     "execution_count": 20,
     "metadata": {},
     "output_type": "execute_result"
    }
   ],
   "source": [
    "# from the information above, the missing values are alone contained in cast, director and production_companies \n",
    "# which could be as a result of error in data entry or based on the genre type\n",
    "# therefore, the missing values will be filled with \"none\" \n",
    "\n",
    "\n",
    "df.fillna(\"none\", inplace = True)\n",
    "df.isnull().sum().any()  #check if we have missing values"
   ]
  },
  {
   "cell_type": "code",
   "execution_count": 21,
   "metadata": {},
   "outputs": [
    {
     "data": {
      "text/plain": [
       "(4850, 15)"
      ]
     },
     "execution_count": 21,
     "metadata": {},
     "output_type": "execute_result"
    }
   ],
   "source": [
    "# check new shape\n",
    "\n",
    "df.shape"
   ]
  },
  {
   "cell_type": "markdown",
   "metadata": {},
   "source": [
    "## Covert columns with multiple values as field to list, and replacing the \"|\" symbol"
   ]
  },
  {
   "cell_type": "code",
   "execution_count": 22,
   "metadata": {},
   "outputs": [],
   "source": [
    "# a function to replace each occurence of '|' in each entries of columns with mulitple values, and then adding them to a list\n",
    "\n",
    "def change_col(col):\n",
    "    list_gen = []\n",
    "    for i in df[col]:\n",
    "        j = i.split(\"|\")\n",
    "        list_gen.append(j)\n",
    "        \n",
    "    return list_gen"
   ]
  },
  {
   "cell_type": "code",
   "execution_count": 23,
   "metadata": {},
   "outputs": [],
   "source": [
    "multi_col = [\"cast\", \"genres\", \"director\",\"production_companies\"]\n",
    "\n",
    "for i in multi_col:\n",
    "    df[i] = change_col(i)\n",
    "    "
   ]
  },
  {
   "cell_type": "code",
   "execution_count": 24,
   "metadata": {},
   "outputs": [
    {
     "data": {
      "text/html": [
       "<div>\n",
       "<style scoped>\n",
       "    .dataframe tbody tr th:only-of-type {\n",
       "        vertical-align: middle;\n",
       "    }\n",
       "\n",
       "    .dataframe tbody tr th {\n",
       "        vertical-align: top;\n",
       "    }\n",
       "\n",
       "    .dataframe thead th {\n",
       "        text-align: right;\n",
       "    }\n",
       "</style>\n",
       "<table border=\"1\" class=\"dataframe\">\n",
       "  <thead>\n",
       "    <tr style=\"text-align: right;\">\n",
       "      <th></th>\n",
       "      <th>popularity</th>\n",
       "      <th>budget</th>\n",
       "      <th>revenue</th>\n",
       "      <th>original_title</th>\n",
       "      <th>cast</th>\n",
       "      <th>director</th>\n",
       "      <th>runtime</th>\n",
       "      <th>genres</th>\n",
       "      <th>production_companies</th>\n",
       "      <th>release_date</th>\n",
       "      <th>vote_count</th>\n",
       "      <th>vote_average</th>\n",
       "      <th>release_year</th>\n",
       "      <th>budget_adj</th>\n",
       "      <th>revenue_adj</th>\n",
       "    </tr>\n",
       "  </thead>\n",
       "  <tbody>\n",
       "    <tr>\n",
       "      <th>0</th>\n",
       "      <td>32.985763</td>\n",
       "      <td>150000000</td>\n",
       "      <td>1513528810</td>\n",
       "      <td>Jurassic World</td>\n",
       "      <td>[Chris Pratt, Bryce Dallas Howard, Irrfan Khan...</td>\n",
       "      <td>[Colin Trevorrow]</td>\n",
       "      <td>124</td>\n",
       "      <td>[Action, Adventure, Science Fiction, Thriller]</td>\n",
       "      <td>[Universal Studios, Amblin Entertainment, Lege...</td>\n",
       "      <td>2015-06-09</td>\n",
       "      <td>5562</td>\n",
       "      <td>6.5</td>\n",
       "      <td>2015</td>\n",
       "      <td>1.379999e+08</td>\n",
       "      <td>1.392446e+09</td>\n",
       "    </tr>\n",
       "    <tr>\n",
       "      <th>1</th>\n",
       "      <td>28.419936</td>\n",
       "      <td>150000000</td>\n",
       "      <td>378436354</td>\n",
       "      <td>Mad Max: Fury Road</td>\n",
       "      <td>[Tom Hardy, Charlize Theron, Hugh Keays-Byrne,...</td>\n",
       "      <td>[George Miller]</td>\n",
       "      <td>120</td>\n",
       "      <td>[Action, Adventure, Science Fiction, Thriller]</td>\n",
       "      <td>[Village Roadshow Pictures, Kennedy Miller Pro...</td>\n",
       "      <td>2015-05-13</td>\n",
       "      <td>6185</td>\n",
       "      <td>7.1</td>\n",
       "      <td>2015</td>\n",
       "      <td>1.379999e+08</td>\n",
       "      <td>3.481613e+08</td>\n",
       "    </tr>\n",
       "    <tr>\n",
       "      <th>2</th>\n",
       "      <td>13.112507</td>\n",
       "      <td>110000000</td>\n",
       "      <td>295238201</td>\n",
       "      <td>Insurgent</td>\n",
       "      <td>[Shailene Woodley, Theo James, Kate Winslet, A...</td>\n",
       "      <td>[Robert Schwentke]</td>\n",
       "      <td>119</td>\n",
       "      <td>[Adventure, Science Fiction, Thriller]</td>\n",
       "      <td>[Summit Entertainment, Mandeville Films, Red W...</td>\n",
       "      <td>2015-03-18</td>\n",
       "      <td>2480</td>\n",
       "      <td>6.3</td>\n",
       "      <td>2015</td>\n",
       "      <td>1.012000e+08</td>\n",
       "      <td>2.716190e+08</td>\n",
       "    </tr>\n",
       "  </tbody>\n",
       "</table>\n",
       "</div>"
      ],
      "text/plain": [
       "   popularity     budget     revenue      original_title  \\\n",
       "0   32.985763  150000000  1513528810      Jurassic World   \n",
       "1   28.419936  150000000   378436354  Mad Max: Fury Road   \n",
       "2   13.112507  110000000   295238201           Insurgent   \n",
       "\n",
       "                                                cast            director  \\\n",
       "0  [Chris Pratt, Bryce Dallas Howard, Irrfan Khan...   [Colin Trevorrow]   \n",
       "1  [Tom Hardy, Charlize Theron, Hugh Keays-Byrne,...     [George Miller]   \n",
       "2  [Shailene Woodley, Theo James, Kate Winslet, A...  [Robert Schwentke]   \n",
       "\n",
       "   runtime                                          genres  \\\n",
       "0      124  [Action, Adventure, Science Fiction, Thriller]   \n",
       "1      120  [Action, Adventure, Science Fiction, Thriller]   \n",
       "2      119          [Adventure, Science Fiction, Thriller]   \n",
       "\n",
       "                                production_companies release_date  vote_count  \\\n",
       "0  [Universal Studios, Amblin Entertainment, Lege...   2015-06-09        5562   \n",
       "1  [Village Roadshow Pictures, Kennedy Miller Pro...   2015-05-13        6185   \n",
       "2  [Summit Entertainment, Mandeville Films, Red W...   2015-03-18        2480   \n",
       "\n",
       "   vote_average  release_year    budget_adj   revenue_adj  \n",
       "0           6.5          2015  1.379999e+08  1.392446e+09  \n",
       "1           7.1          2015  1.379999e+08  3.481613e+08  \n",
       "2           6.3          2015  1.012000e+08  2.716190e+08  "
      ]
     },
     "execution_count": 24,
     "metadata": {},
     "output_type": "execute_result"
    }
   ],
   "source": [
    "df.reset_index(drop = True, inplace = True)\n",
    "df.head(3)"
   ]
  },
  {
   "cell_type": "code",
   "execution_count": 25,
   "metadata": {},
   "outputs": [
    {
     "data": {
      "text/html": [
       "<div>\n",
       "<style scoped>\n",
       "    .dataframe tbody tr th:only-of-type {\n",
       "        vertical-align: middle;\n",
       "    }\n",
       "\n",
       "    .dataframe tbody tr th {\n",
       "        vertical-align: top;\n",
       "    }\n",
       "\n",
       "    .dataframe thead th {\n",
       "        text-align: right;\n",
       "    }\n",
       "</style>\n",
       "<table border=\"1\" class=\"dataframe\">\n",
       "  <thead>\n",
       "    <tr style=\"text-align: right;\">\n",
       "      <th></th>\n",
       "      <th>count</th>\n",
       "      <th>mean</th>\n",
       "      <th>std</th>\n",
       "      <th>min</th>\n",
       "      <th>25%</th>\n",
       "      <th>50%</th>\n",
       "      <th>75%</th>\n",
       "      <th>max</th>\n",
       "    </tr>\n",
       "  </thead>\n",
       "  <tbody>\n",
       "    <tr>\n",
       "      <th>popularity</th>\n",
       "      <td>4850.0</td>\n",
       "      <td>1.045109e+00</td>\n",
       "      <td>1.356628e+00</td>\n",
       "      <td>0.001117</td>\n",
       "      <td>3.877543e-01</td>\n",
       "      <td>6.802890e-01</td>\n",
       "      <td>1.210457e+00</td>\n",
       "      <td>3.298576e+01</td>\n",
       "    </tr>\n",
       "    <tr>\n",
       "      <th>budget</th>\n",
       "      <td>4850.0</td>\n",
       "      <td>2.956970e+07</td>\n",
       "      <td>4.051343e+07</td>\n",
       "      <td>0.000000</td>\n",
       "      <td>1.700000e+06</td>\n",
       "      <td>1.500000e+07</td>\n",
       "      <td>4.000000e+07</td>\n",
       "      <td>4.250000e+08</td>\n",
       "    </tr>\n",
       "    <tr>\n",
       "      <th>revenue</th>\n",
       "      <td>4850.0</td>\n",
       "      <td>8.922066e+07</td>\n",
       "      <td>1.620684e+08</td>\n",
       "      <td>2.000000</td>\n",
       "      <td>7.708081e+06</td>\n",
       "      <td>3.182654e+07</td>\n",
       "      <td>9.991823e+07</td>\n",
       "      <td>2.781506e+09</td>\n",
       "    </tr>\n",
       "    <tr>\n",
       "      <th>runtime</th>\n",
       "      <td>4850.0</td>\n",
       "      <td>1.079647e+02</td>\n",
       "      <td>2.111285e+01</td>\n",
       "      <td>15.000000</td>\n",
       "      <td>9.500000e+01</td>\n",
       "      <td>1.040000e+02</td>\n",
       "      <td>1.170000e+02</td>\n",
       "      <td>7.050000e+02</td>\n",
       "    </tr>\n",
       "    <tr>\n",
       "      <th>vote_count</th>\n",
       "      <td>4850.0</td>\n",
       "      <td>4.362159e+02</td>\n",
       "      <td>8.064162e+02</td>\n",
       "      <td>10.000000</td>\n",
       "      <td>4.600000e+01</td>\n",
       "      <td>1.470000e+02</td>\n",
       "      <td>4.350000e+02</td>\n",
       "      <td>9.767000e+03</td>\n",
       "    </tr>\n",
       "    <tr>\n",
       "      <th>vote_average</th>\n",
       "      <td>4850.0</td>\n",
       "      <td>6.148763e+00</td>\n",
       "      <td>7.987949e-01</td>\n",
       "      <td>2.100000</td>\n",
       "      <td>5.600000e+00</td>\n",
       "      <td>6.200000e+00</td>\n",
       "      <td>6.700000e+00</td>\n",
       "      <td>8.400000e+00</td>\n",
       "    </tr>\n",
       "    <tr>\n",
       "      <th>release_year</th>\n",
       "      <td>4850.0</td>\n",
       "      <td>2.000922e+03</td>\n",
       "      <td>1.156919e+01</td>\n",
       "      <td>1960.000000</td>\n",
       "      <td>1.994000e+03</td>\n",
       "      <td>2.004000e+03</td>\n",
       "      <td>2.010000e+03</td>\n",
       "      <td>2.015000e+03</td>\n",
       "    </tr>\n",
       "    <tr>\n",
       "      <th>budget_adj</th>\n",
       "      <td>4850.0</td>\n",
       "      <td>3.516102e+07</td>\n",
       "      <td>4.375672e+07</td>\n",
       "      <td>0.000000</td>\n",
       "      <td>2.332078e+06</td>\n",
       "      <td>2.032801e+07</td>\n",
       "      <td>4.973516e+07</td>\n",
       "      <td>4.250000e+08</td>\n",
       "    </tr>\n",
       "    <tr>\n",
       "      <th>revenue_adj</th>\n",
       "      <td>4850.0</td>\n",
       "      <td>1.150774e+08</td>\n",
       "      <td>1.988419e+08</td>\n",
       "      <td>2.370705</td>\n",
       "      <td>1.046262e+07</td>\n",
       "      <td>4.392749e+07</td>\n",
       "      <td>1.315644e+08</td>\n",
       "      <td>2.827124e+09</td>\n",
       "    </tr>\n",
       "  </tbody>\n",
       "</table>\n",
       "</div>"
      ],
      "text/plain": [
       "               count          mean           std          min           25%  \\\n",
       "popularity    4850.0  1.045109e+00  1.356628e+00     0.001117  3.877543e-01   \n",
       "budget        4850.0  2.956970e+07  4.051343e+07     0.000000  1.700000e+06   \n",
       "revenue       4850.0  8.922066e+07  1.620684e+08     2.000000  7.708081e+06   \n",
       "runtime       4850.0  1.079647e+02  2.111285e+01    15.000000  9.500000e+01   \n",
       "vote_count    4850.0  4.362159e+02  8.064162e+02    10.000000  4.600000e+01   \n",
       "vote_average  4850.0  6.148763e+00  7.987949e-01     2.100000  5.600000e+00   \n",
       "release_year  4850.0  2.000922e+03  1.156919e+01  1960.000000  1.994000e+03   \n",
       "budget_adj    4850.0  3.516102e+07  4.375672e+07     0.000000  2.332078e+06   \n",
       "revenue_adj   4850.0  1.150774e+08  1.988419e+08     2.370705  1.046262e+07   \n",
       "\n",
       "                       50%           75%           max  \n",
       "popularity    6.802890e-01  1.210457e+00  3.298576e+01  \n",
       "budget        1.500000e+07  4.000000e+07  4.250000e+08  \n",
       "revenue       3.182654e+07  9.991823e+07  2.781506e+09  \n",
       "runtime       1.040000e+02  1.170000e+02  7.050000e+02  \n",
       "vote_count    1.470000e+02  4.350000e+02  9.767000e+03  \n",
       "vote_average  6.200000e+00  6.700000e+00  8.400000e+00  \n",
       "release_year  2.004000e+03  2.010000e+03  2.015000e+03  \n",
       "budget_adj    2.032801e+07  4.973516e+07  4.250000e+08  \n",
       "revenue_adj   4.392749e+07  1.315644e+08  2.827124e+09  "
      ]
     },
     "execution_count": 25,
     "metadata": {},
     "output_type": "execute_result"
    }
   ],
   "source": [
    "# a statistical decription of the dataset to get the min, max, 25%, 50% and 75%\n",
    "\n",
    "df.describe().transpose()"
   ]
  },
  {
   "cell_type": "code",
   "execution_count": 26,
   "metadata": {
    "scrolled": false
   },
   "outputs": [
    {
     "data": {
      "image/png": "[encoded data removed]",
      "text/plain": [
       "<Figure size 864x576 with 2 Axes>"
      ]
     },
     "metadata": {
      "needs_background": "light"
     },
     "output_type": "display_data"
    }
   ],
   "source": [
    "# check correlation between each numeric features\n",
    "\n",
    "corr = df.corr()\n",
    "plt.figure(figsize = (12,8))\n",
    "sns.heatmap(corr, annot = True);"
   ]
  },
  {
   "cell_type": "markdown",
   "metadata": {},
   "source": [
    "> - popularity has a positive relationship with revenue, a strong relationship with vote_count\n",
    "> - Budget has a positive correlation with revenue and vote_count\n",
    "> - Revenue has a positive relationship with vote_count"
   ]
  },
  {
   "cell_type": "markdown",
   "metadata": {},
   "source": [
    "# Exploratory Data Analysis"
   ]
  },
  {
   "cell_type": "markdown",
   "metadata": {},
   "source": [
    "## Research Question 1: Dependency of Revenue on Runtime"
   ]
  },
  {
   "cell_type": "markdown",
   "metadata": {},
   "source": [
    "> ### 1.1: Distribution of Runtime "
   ]
  },
  {
   "cell_type": "code",
   "execution_count": 27,
   "metadata": {
    "scrolled": false
   },
   "outputs": [
    {
     "name": "stderr",
     "output_type": "stream",
     "text": [
      "C:\\Users\\Egharevba Blessing\\Anaconda3\\lib\\site-packages\\seaborn\\distributions.py:2557: FutureWarning: `distplot` is a deprecated function and will be removed in a future version. Please adapt your code to use either `displot` (a figure-level function with similar flexibility) or `histplot` (an axes-level function for histograms).\n",
      "  warnings.warn(msg, FutureWarning)\n"
     ]
    },
    {
     "data": {
      "image/png": "[encoded data removed]",
      "text/plain": [
       "<Figure size 576x432 with 1 Axes>"
      ]
     },
     "metadata": {
      "needs_background": "light"
     },
     "output_type": "display_data"
    }
   ],
   "source": [
    "plt.figure(figsize = (8,6))\n",
    "sns.distplot(df.runtime);"
   ]
  },
  {
   "cell_type": "markdown",
   "metadata": {},
   "source": [
    "> We have majority of the movies running from 100mins to 200mins"
   ]
  },
  {
   "cell_type": "markdown",
   "metadata": {},
   "source": [
    "> ### 1.2: Top Movies with the highest runtime \n",
    "compared with its revenue"
   ]
  },
  {
   "cell_type": "code",
   "execution_count": 28,
   "metadata": {},
   "outputs": [
    {
     "data": {
      "text/html": [
       "<div>\n",
       "<style scoped>\n",
       "    .dataframe tbody tr th:only-of-type {\n",
       "        vertical-align: middle;\n",
       "    }\n",
       "\n",
       "    .dataframe tbody tr th {\n",
       "        vertical-align: top;\n",
       "    }\n",
       "\n",
       "    .dataframe thead th {\n",
       "        text-align: right;\n",
       "    }\n",
       "</style>\n",
       "<table border=\"1\" class=\"dataframe\">\n",
       "  <thead>\n",
       "    <tr style=\"text-align: right;\">\n",
       "      <th></th>\n",
       "      <th>runtime</th>\n",
       "      <th>revenue</th>\n",
       "    </tr>\n",
       "    <tr>\n",
       "      <th>original_title</th>\n",
       "      <th></th>\n",
       "      <th></th>\n",
       "    </tr>\n",
       "  </thead>\n",
       "  <tbody>\n",
       "    <tr>\n",
       "      <th>Band of Brothers</th>\n",
       "      <td>705</td>\n",
       "      <td>125000000</td>\n",
       "    </tr>\n",
       "    <tr>\n",
       "      <th>Carlos</th>\n",
       "      <td>338</td>\n",
       "      <td>871279</td>\n",
       "    </tr>\n",
       "    <tr>\n",
       "      <th>Gettysburg</th>\n",
       "      <td>254</td>\n",
       "      <td>25000000</td>\n",
       "    </tr>\n",
       "    <tr>\n",
       "      <th>Cleopatra</th>\n",
       "      <td>248</td>\n",
       "      <td>57750000</td>\n",
       "    </tr>\n",
       "    <tr>\n",
       "      <th>Heaven's Gate</th>\n",
       "      <td>219</td>\n",
       "      <td>3484331</td>\n",
       "    </tr>\n",
       "    <tr>\n",
       "      <th>Lawrence of Arabia</th>\n",
       "      <td>216</td>\n",
       "      <td>70000000</td>\n",
       "    </tr>\n",
       "    <tr>\n",
       "      <th>Gods and Generals</th>\n",
       "      <td>214</td>\n",
       "      <td>12923936</td>\n",
       "    </tr>\n",
       "    <tr>\n",
       "      <th>Jodhaa Akbar</th>\n",
       "      <td>213</td>\n",
       "      <td>13000000</td>\n",
       "    </tr>\n",
       "    <tr>\n",
       "      <th>Malcolm X</th>\n",
       "      <td>202</td>\n",
       "      <td>48169908</td>\n",
       "    </tr>\n",
       "    <tr>\n",
       "      <th>The Lord of the Rings: The Return of the King</th>\n",
       "      <td>201</td>\n",
       "      <td>1118888979</td>\n",
       "    </tr>\n",
       "  </tbody>\n",
       "</table>\n",
       "</div>"
      ],
      "text/plain": [
       "                                               runtime     revenue\n",
       "original_title                                                    \n",
       "Band of Brothers                                   705   125000000\n",
       "Carlos                                             338      871279\n",
       "Gettysburg                                         254    25000000\n",
       "Cleopatra                                          248    57750000\n",
       "Heaven's Gate                                      219     3484331\n",
       "Lawrence of Arabia                                 216    70000000\n",
       "Gods and Generals                                  214    12923936\n",
       "Jodhaa Akbar                                       213    13000000\n",
       "Malcolm X                                          202    48169908\n",
       "The Lord of the Rings: The Return of the King      201  1118888979"
      ]
     },
     "execution_count": 28,
     "metadata": {},
     "output_type": "execute_result"
    }
   ],
   "source": [
    "top10_rt = df.sort_values(\"runtime\", ascending = False)[[\"original_title\", \"runtime\", \"revenue\"]].head(10).set_index(\"original_title\")\n",
    "\n",
    "top10_rt"
   ]
  },
  {
   "cell_type": "code",
   "execution_count": 29,
   "metadata": {},
   "outputs": [
    {
     "data": {
      "text/plain": [
       "<matplotlib.axes._subplots.AxesSubplot at 0x1b1c00d5b70>"
      ]
     },
     "execution_count": 29,
     "metadata": {},
     "output_type": "execute_result"
    },
    {
     "data": {
      "image/png": "[encoded data removed]",
      "text/plain": [
       "<Figure size 576x360 with 1 Axes>"
      ]
     },
     "metadata": {
      "needs_background": "light"
     },
     "output_type": "display_data"
    },
    {
     "data": {
      "image/png": "[encoded data removed]",
      "text/plain": [
       "<Figure size 576x360 with 1 Axes>"
      ]
     },
     "metadata": {
      "needs_background": "light"
     },
     "output_type": "display_data"
    }
   ],
   "source": [
    "top10_rt.sort_values(\"runtime\", ascending = True, inplace = True)\n",
    "top10_rt.plot.barh(y = \"runtime\", figsize = (8,5), ylabel = \"runtime\", title = \"Top 10 Runtime Movies\")\n",
    "top10_rt.plot.barh(y = \"revenue\", figsize = (8,5), ylabel = \"revenue\", title = \"Revenue Generated\")\n"
   ]
  },
  {
   "cell_type": "markdown",
   "metadata": {},
   "source": [
    "> \"Band of Brothers\" has the highest runtime of 705mins, followed by Carlos with 338 mins, with the least runtime (among the top 10) being \"The Lord of the rings: The Return of the King\", but \"The Lord of the rings: The Return of the King\" generated the most revenue. This can clearly imply that the sucess of a movie is independent of the runtime of the movie."
   ]
  },
  {
   "cell_type": "markdown",
   "metadata": {},
   "source": [
    "> ### 1.3: Correlation between Runtime and Revenue generated"
   ]
  },
  {
   "cell_type": "code",
   "execution_count": 30,
   "metadata": {},
   "outputs": [
    {
     "data": {
      "text/plain": [
       "<matplotlib.axes._subplots.AxesSubplot at 0x1b1c00207f0>"
      ]
     },
     "execution_count": 30,
     "metadata": {},
     "output_type": "execute_result"
    },
    {
     "data": {
      "image/png": "[encoded data removed]",
      "text/plain": [
       "<Figure size 576x360 with 1 Axes>"
      ]
     },
     "metadata": {
      "needs_background": "light"
     },
     "output_type": "display_data"
    }
   ],
   "source": [
    "plt.figure(figsize = (8, 5))\n",
    "sns.scatterplot(x = \"runtime\", y = \"revenue\", data = df)"
   ]
  },
  {
   "cell_type": "markdown",
   "metadata": {},
   "source": [
    "> Runtime has very low correlation with revenue generated, and from the heatmap above, they have a correlation of 0.24 (a low positive correlation)"
   ]
  },
  {
   "cell_type": "markdown",
   "metadata": {},
   "source": [
    "## Research Question 2: Dependency of Revenue on Popularity"
   ]
  },
  {
   "cell_type": "markdown",
   "metadata": {},
   "source": [
    "> ### 2.1: Distribution of Popularity"
   ]
  },
  {
   "cell_type": "code",
   "execution_count": 31,
   "metadata": {},
   "outputs": [
    {
     "name": "stderr",
     "output_type": "stream",
     "text": [
      "C:\\Users\\Egharevba Blessing\\Anaconda3\\lib\\site-packages\\seaborn\\distributions.py:2557: FutureWarning: `distplot` is a deprecated function and will be removed in a future version. Please adapt your code to use either `displot` (a figure-level function with similar flexibility) or `histplot` (an axes-level function for histograms).\n",
      "  warnings.warn(msg, FutureWarning)\n"
     ]
    },
    {
     "data": {
      "image/png": "[encoded data removed]",
      "text/plain": [
       "<Figure size 576x432 with 1 Axes>"
      ]
     },
     "metadata": {
      "needs_background": "light"
     },
     "output_type": "display_data"
    }
   ],
   "source": [
    "plt.figure(figsize = (8,6))\n",
    "sns.distplot(df.popularity);"
   ]
  },
  {
   "cell_type": "markdown",
   "metadata": {},
   "source": [
    "> We have majority of movies with popularity from 0 to 5"
   ]
  },
  {
   "cell_type": "markdown",
   "metadata": {},
   "source": [
    "> ### 2.2: Top Movies with the Highest Popularity\n",
    "compared to its revenue"
   ]
  },
  {
   "cell_type": "code",
   "execution_count": 32,
   "metadata": {
    "scrolled": true
   },
   "outputs": [
    {
     "data": {
      "text/html": [
       "<div>\n",
       "<style scoped>\n",
       "    .dataframe tbody tr th:only-of-type {\n",
       "        vertical-align: middle;\n",
       "    }\n",
       "\n",
       "    .dataframe tbody tr th {\n",
       "        vertical-align: top;\n",
       "    }\n",
       "\n",
       "    .dataframe thead th {\n",
       "        text-align: right;\n",
       "    }\n",
       "</style>\n",
       "<table border=\"1\" class=\"dataframe\">\n",
       "  <thead>\n",
       "    <tr style=\"text-align: right;\">\n",
       "      <th></th>\n",
       "      <th>popularity</th>\n",
       "      <th>revenue</th>\n",
       "    </tr>\n",
       "    <tr>\n",
       "      <th>original_title</th>\n",
       "      <th></th>\n",
       "      <th></th>\n",
       "    </tr>\n",
       "  </thead>\n",
       "  <tbody>\n",
       "    <tr>\n",
       "      <th>Jurassic World</th>\n",
       "      <td>32.985763</td>\n",
       "      <td>1513528810</td>\n",
       "    </tr>\n",
       "    <tr>\n",
       "      <th>Mad Max: Fury Road</th>\n",
       "      <td>28.419936</td>\n",
       "      <td>378436354</td>\n",
       "    </tr>\n",
       "    <tr>\n",
       "      <th>Interstellar</th>\n",
       "      <td>24.949134</td>\n",
       "      <td>621752480</td>\n",
       "    </tr>\n",
       "    <tr>\n",
       "      <th>Guardians of the Galaxy</th>\n",
       "      <td>14.311205</td>\n",
       "      <td>773312399</td>\n",
       "    </tr>\n",
       "    <tr>\n",
       "      <th>Insurgent</th>\n",
       "      <td>13.112507</td>\n",
       "      <td>295238201</td>\n",
       "    </tr>\n",
       "    <tr>\n",
       "      <th>Captain America: The Winter Soldier</th>\n",
       "      <td>12.971027</td>\n",
       "      <td>714766572</td>\n",
       "    </tr>\n",
       "    <tr>\n",
       "      <th>Star Wars</th>\n",
       "      <td>12.037933</td>\n",
       "      <td>775398007</td>\n",
       "    </tr>\n",
       "    <tr>\n",
       "      <th>John Wick</th>\n",
       "      <td>11.422751</td>\n",
       "      <td>78739897</td>\n",
       "    </tr>\n",
       "    <tr>\n",
       "      <th>Star Wars: The Force Awakens</th>\n",
       "      <td>11.173104</td>\n",
       "      <td>2068178225</td>\n",
       "    </tr>\n",
       "    <tr>\n",
       "      <th>The Hunger Games: Mockingjay - Part 1</th>\n",
       "      <td>10.739009</td>\n",
       "      <td>752100229</td>\n",
       "    </tr>\n",
       "  </tbody>\n",
       "</table>\n",
       "</div>"
      ],
      "text/plain": [
       "                                       popularity     revenue\n",
       "original_title                                               \n",
       "Jurassic World                          32.985763  1513528810\n",
       "Mad Max: Fury Road                      28.419936   378436354\n",
       "Interstellar                            24.949134   621752480\n",
       "Guardians of the Galaxy                 14.311205   773312399\n",
       "Insurgent                               13.112507   295238201\n",
       "Captain America: The Winter Soldier     12.971027   714766572\n",
       "Star Wars                               12.037933   775398007\n",
       "John Wick                               11.422751    78739897\n",
       "Star Wars: The Force Awakens            11.173104  2068178225\n",
       "The Hunger Games: Mockingjay - Part 1   10.739009   752100229"
      ]
     },
     "execution_count": 32,
     "metadata": {},
     "output_type": "execute_result"
    }
   ],
   "source": [
    "top10_pp = df.sort_values(\"popularity\", ascending = False)[[\"original_title\", \n",
    "                                                            \"popularity\", \"revenue\"]].head(10).set_index(\"original_title\")\n",
    "\n",
    "top10_pp"
   ]
  },
  {
   "cell_type": "code",
   "execution_count": 33,
   "metadata": {},
   "outputs": [
    {
     "data": {
      "text/plain": [
       "<matplotlib.axes._subplots.AxesSubplot at 0x1b1c02f6160>"
      ]
     },
     "execution_count": 33,
     "metadata": {},
     "output_type": "execute_result"
    },
    {
     "data": {
      "image/png": "[encoded data removed]",
      "text/plain": [
       "<Figure size 576x360 with 1 Axes>"
      ]
     },
     "metadata": {
      "needs_background": "light"
     },
     "output_type": "display_data"
    },
    {
     "data": {
      "image/png": "[encoded data removed]",
      "text/plain": [
       "<Figure size 576x360 with 1 Axes>"
      ]
     },
     "metadata": {
      "needs_background": "light"
     },
     "output_type": "display_data"
    }
   ],
   "source": [
    "top10_pp.sort_values(\"popularity\", ascending = True, inplace = True)\n",
    "\n",
    "top10_pp.plot.barh(y = \"popularity\", figsize = (8,5), ylabel = \"popularity\", title = \"Top 10 Popular movies\")\n",
    "top10_pp.plot.barh(y = \"revenue\", figsize = (8,5), ylabel = \"revenue\", title = \"Revenue Generated\")\n",
    "# plt.title(\"Top 10 Popular movies\")\n",
    "# plt.xlabel(\"popularity\");"
   ]
  },
  {
   "cell_type": "markdown",
   "metadata": {},
   "source": [
    "> Jurassic World came out the most popular movie with 32.985763 popularity, followed by Mad Max: Fury Road with 28.419936 popularity, but Star Wars: The Force Awaken had the highest revenue. Though from the second chart, Jurrasic World had the second highest revenue generated. This can show that the popularity of a movie can affect the revenue generated at the end."
   ]
  },
  {
   "cell_type": "markdown",
   "metadata": {},
   "source": [
    "> ### 2.3: Correlation between Popularity and Revenue generated"
   ]
  },
  {
   "cell_type": "code",
   "execution_count": 34,
   "metadata": {},
   "outputs": [
    {
     "data": {
      "text/plain": [
       "<matplotlib.axes._subplots.AxesSubplot at 0x1b1c0176cf8>"
      ]
     },
     "execution_count": 34,
     "metadata": {},
     "output_type": "execute_result"
    },
    {
     "data": {
      "image/png": "[encoded data removed]",
      "text/plain": [
       "<Figure size 576x360 with 1 Axes>"
      ]
     },
     "metadata": {
      "needs_background": "light"
     },
     "output_type": "display_data"
    }
   ],
   "source": [
    "plt.figure(figsize = (8, 5))\n",
    "sns.scatterplot(x = \"popularity\", y = \"revenue\", data = df)"
   ]
  },
  {
   "cell_type": "markdown",
   "metadata": {},
   "source": [
    "> Popularity has high positive correlation with revenue generated with 0.63 correlation (according to the heatmap above)"
   ]
  },
  {
   "cell_type": "markdown",
   "metadata": {},
   "source": [
    "## Research Question 3: Number of movies released per year?"
   ]
  },
  {
   "cell_type": "code",
   "execution_count": 35,
   "metadata": {},
   "outputs": [
    {
     "data": {
      "image/png": "[encoded data removed]",
      "text/plain": [
       "<Figure size 1296x576 with 1 Axes>"
      ]
     },
     "metadata": {
      "needs_background": "light"
     },
     "output_type": "display_data"
    }
   ],
   "source": [
    "movies_per_year = df.groupby(\"release_year\").count()[\"original_title\"]\n",
    "movies_per_year.plot.bar(figsize = (18,8))\n",
    "plt.ylabel(\"No of Movies\")\n",
    "plt.title(\"No of Movies produced in a year\");"
   ]
  },
  {
   "cell_type": "markdown",
   "metadata": {},
   "source": [
    "> More movies were released in 2013 with 244 movies, followed by 2010 with close to 218 movies released"
   ]
  },
  {
   "cell_type": "markdown",
   "metadata": {},
   "source": [
    "## Research Question 4: How many of the top most budget movies made it to the top 10 high gross movies?"
   ]
  },
  {
   "cell_type": "markdown",
   "metadata": {},
   "source": [
    "> ### 4.1: Top 10 high gross movies"
   ]
  },
  {
   "cell_type": "code",
   "execution_count": 36,
   "metadata": {},
   "outputs": [
    {
     "data": {
      "image/png": "[encoded data removed]",
      "text/plain": [
       "<Figure size 576x360 with 1 Axes>"
      ]
     },
     "metadata": {
      "needs_background": "light"
     },
     "output_type": "display_data"
    }
   ],
   "source": [
    "top10_revenue = df.sort_values(\"revenue\", ascending = False)[[\"original_title\", \"revenue\"]].head(10).set_index(\"original_title\")\n",
    "top10_revenue.sort_values(\"revenue\", ascending = True, inplace = True)\n",
    "top10_revenue.plot.barh(figsize = (8,5))\n",
    "plt.xlabel(\"revenue\");"
   ]
  },
  {
   "cell_type": "markdown",
   "metadata": {},
   "source": [
    "> ### 4.2: Top 10 Budget movie\n",
    "Compared to their Revenue"
   ]
  },
  {
   "cell_type": "code",
   "execution_count": 37,
   "metadata": {},
   "outputs": [
    {
     "data": {
      "image/png": "[encoded data removed]",
      "text/plain": [
       "<Figure size 576x360 with 1 Axes>"
      ]
     },
     "metadata": {
      "needs_background": "light"
     },
     "output_type": "display_data"
    }
   ],
   "source": [
    "top10_budget = df.sort_values(\"budget\", ascending = False)[[\"original_title\", \n",
    "                                                            \"budget\", \"revenue\"]].head(10).set_index(\"original_title\")\n",
    "top10_budget.sort_values(\"budget\", ascending = True, inplace = True)\n",
    "top10_budget.plot.barh(y = \"budget\", figsize = (8,5))\n",
    "plt.xlabel(\"budget\");"
   ]
  },
  {
   "cell_type": "code",
   "execution_count": 38,
   "metadata": {},
   "outputs": [
    {
     "data": {
      "text/plain": [
       "False"
      ]
     },
     "execution_count": 38,
     "metadata": {},
     "output_type": "execute_result"
    }
   ],
   "source": [
    "check = any(movie in top10_revenue.index for movie in top10_budget)\n",
    "check"
   ]
  },
  {
   "cell_type": "markdown",
   "metadata": {},
   "source": [
    "> - The Warrior's Way had the highest budget\n",
    "> - Avatar generated the highest revenue\n",
    "> - None of the movies that made the top 10 high budget movies made it to the top 10 high gross movies"
   ]
  },
  {
   "cell_type": "code",
   "execution_count": 39,
   "metadata": {},
   "outputs": [
    {
     "data": {
      "text/plain": [
       "<matplotlib.axes._subplots.AxesSubplot at 0x1b1bfa6a470>"
      ]
     },
     "execution_count": 39,
     "metadata": {},
     "output_type": "execute_result"
    },
    {
     "data": {
      "image/png": "[encoded data removed]",
      "text/plain": [
       "<Figure size 576x360 with 1 Axes>"
      ]
     },
     "metadata": {
      "needs_background": "light"
     },
     "output_type": "display_data"
    }
   ],
   "source": [
    "top10_budget.plot.barh(y = \"revenue\", figsize = (8,5))"
   ]
  },
  {
   "cell_type": "markdown",
   "metadata": {},
   "source": [
    "> Among the top budgetted movies, Pirate of the Carribbean: On Stranger Tides, cames up among the top generated revenue movies. This can show that the success of a movie is somewhat dependent of it budget.\n",
    "\n",
    "> Investigation should be made on why some movies with high budget end up with low revenue, which could be as a result of some other underlying factors."
   ]
  },
  {
   "cell_type": "markdown",
   "metadata": {},
   "source": [
    "> ### 4.3 Correlation between budget and revenue"
   ]
  },
  {
   "cell_type": "code",
   "execution_count": 40,
   "metadata": {},
   "outputs": [
    {
     "data": {
      "image/png": "[encoded data removed]",
      "text/plain": [
       "<Figure size 864x576 with 1 Axes>"
      ]
     },
     "metadata": {
      "needs_background": "light"
     },
     "output_type": "display_data"
    }
   ],
   "source": [
    "# correlation between budget and revenue\n",
    "\n",
    "plt.figure(figsize = (12,8))\n",
    "plt.scatter(x = df.budget, y = df.revenue)\n",
    "plt.title(\"Correlation between Revenue and Budget\")\n",
    "plt.xlabel(\"Budget\")\n",
    "plt.ylabel(\"Revenue\");"
   ]
  },
  {
   "cell_type": "markdown",
   "metadata": {},
   "source": [
    "> Budget and Revenue has a high correlation or 0.7. This implies that the the budget for a movie does affect the revenue it will generated."
   ]
  },
  {
   "cell_type": "markdown",
   "metadata": {},
   "source": [
    "## Research Question 5: How successful are movies with more than one directors?"
   ]
  },
  {
   "cell_type": "code",
   "execution_count": 41,
   "metadata": {},
   "outputs": [],
   "source": [
    "# get dataframe of movies with multiple (more than one) and one director respectively\n",
    "\n",
    "multi_dir = df.loc[df.director.str.len() > 1].reset_index(drop=True)\n",
    "one_dir = df.loc[df.director.str.len() == 1].reset_index(drop=True)"
   ]
  },
  {
   "cell_type": "code",
   "execution_count": 42,
   "metadata": {},
   "outputs": [
    {
     "data": {
      "text/html": [
       "<div>\n",
       "<style scoped>\n",
       "    .dataframe tbody tr th:only-of-type {\n",
       "        vertical-align: middle;\n",
       "    }\n",
       "\n",
       "    .dataframe tbody tr th {\n",
       "        vertical-align: top;\n",
       "    }\n",
       "\n",
       "    .dataframe thead th {\n",
       "        text-align: right;\n",
       "    }\n",
       "</style>\n",
       "<table border=\"1\" class=\"dataframe\">\n",
       "  <thead>\n",
       "    <tr style=\"text-align: right;\">\n",
       "      <th></th>\n",
       "      <th>max_rev</th>\n",
       "      <th>min_rev</th>\n",
       "      <th>avg_rev</th>\n",
       "    </tr>\n",
       "  </thead>\n",
       "  <tbody>\n",
       "    <tr>\n",
       "      <th>one_dir</th>\n",
       "      <td>2781505847</td>\n",
       "      <td>2</td>\n",
       "      <td>8.612351e+07</td>\n",
       "    </tr>\n",
       "    <tr>\n",
       "      <th>multi_dir</th>\n",
       "      <td>1274219009</td>\n",
       "      <td>20</td>\n",
       "      <td>1.373904e+08</td>\n",
       "    </tr>\n",
       "  </tbody>\n",
       "</table>\n",
       "</div>"
      ],
      "text/plain": [
       "              max_rev  min_rev       avg_rev\n",
       "one_dir    2781505847        2  8.612351e+07\n",
       "multi_dir  1274219009       20  1.373904e+08"
      ]
     },
     "execution_count": 42,
     "metadata": {},
     "output_type": "execute_result"
    }
   ],
   "source": [
    "# get the min, max and average revenue generated by each director dataframes\n",
    "\n",
    "maxi = [max(one_dir.revenue), max(multi_dir.revenue)]\n",
    "mini = [min(one_dir.revenue), min(multi_dir.revenue)]\n",
    "avg = [one_dir.revenue.mean(), multi_dir.revenue.mean()]\n",
    "index = [\"one_dir\", \"multi_dir\"]\n",
    "\n",
    "dir_df = pd.DataFrame({\"max_rev\": maxi, \"min_rev\":mini, \"avg_rev\": avg} , index = index)\n",
    "\n",
    "dir_df"
   ]
  },
  {
   "cell_type": "code",
   "execution_count": 43,
   "metadata": {},
   "outputs": [
    {
     "data": {
      "text/plain": [
       "<Figure size 1440x1440 with 0 Axes>"
      ]
     },
     "metadata": {},
     "output_type": "display_data"
    },
    {
     "data": {
      "image/png": "[encoded data removed]",
      "text/plain": [
       "<Figure size 432x288 with 1 Axes>"
      ]
     },
     "metadata": {
      "needs_background": "light"
     },
     "output_type": "display_data"
    }
   ],
   "source": [
    "plt.figure(figsize=(20,20))\n",
    "dir_df.plot.bar(rot = 0);"
   ]
  },
  {
   "cell_type": "markdown",
   "metadata": {},
   "source": [
    "> On average, movies with multiple directors generate more revenue than movies with one director, though the maximum revenue generated by movies with one_dir is quite higher than that of multiple directors"
   ]
  },
  {
   "cell_type": "markdown",
   "metadata": {},
   "source": [
    "## Research Question 6: What Genres are most popular from year to year?"
   ]
  },
  {
   "cell_type": "code",
   "execution_count": 44,
   "metadata": {},
   "outputs": [
    {
     "data": {
      "text/html": [
       "<div>\n",
       "<style scoped>\n",
       "    .dataframe tbody tr th:only-of-type {\n",
       "        vertical-align: middle;\n",
       "    }\n",
       "\n",
       "    .dataframe tbody tr th {\n",
       "        vertical-align: top;\n",
       "    }\n",
       "\n",
       "    .dataframe thead th {\n",
       "        text-align: right;\n",
       "    }\n",
       "</style>\n",
       "<table border=\"1\" class=\"dataframe\">\n",
       "  <thead>\n",
       "    <tr style=\"text-align: right;\">\n",
       "      <th></th>\n",
       "      <th>popularity</th>\n",
       "      <th>budget</th>\n",
       "      <th>revenue</th>\n",
       "      <th>original_title</th>\n",
       "      <th>cast</th>\n",
       "      <th>director</th>\n",
       "      <th>runtime</th>\n",
       "      <th>genres</th>\n",
       "      <th>production_companies</th>\n",
       "      <th>release_date</th>\n",
       "      <th>vote_count</th>\n",
       "      <th>vote_average</th>\n",
       "      <th>release_year</th>\n",
       "      <th>budget_adj</th>\n",
       "      <th>revenue_adj</th>\n",
       "      <th>Action</th>\n",
       "      <th>Adventure</th>\n",
       "      <th>Animation</th>\n",
       "      <th>Comedy</th>\n",
       "      <th>Crime</th>\n",
       "      <th>Documentary</th>\n",
       "      <th>Drama</th>\n",
       "      <th>Family</th>\n",
       "      <th>Fantasy</th>\n",
       "      <th>Foreign</th>\n",
       "      <th>History</th>\n",
       "      <th>Horror</th>\n",
       "      <th>Music</th>\n",
       "      <th>Mystery</th>\n",
       "      <th>Romance</th>\n",
       "      <th>Science Fiction</th>\n",
       "      <th>TV Movie</th>\n",
       "      <th>Thriller</th>\n",
       "      <th>War</th>\n",
       "      <th>Western</th>\n",
       "    </tr>\n",
       "  </thead>\n",
       "  <tbody>\n",
       "    <tr>\n",
       "      <th>0</th>\n",
       "      <td>32.985763</td>\n",
       "      <td>150000000</td>\n",
       "      <td>1513528810</td>\n",
       "      <td>Jurassic World</td>\n",
       "      <td>[Chris Pratt, Bryce Dallas Howard, Irrfan Khan...</td>\n",
       "      <td>[Colin Trevorrow]</td>\n",
       "      <td>124</td>\n",
       "      <td>[Action, Adventure, Science Fiction, Thriller]</td>\n",
       "      <td>[Universal Studios, Amblin Entertainment, Lege...</td>\n",
       "      <td>2015-06-09</td>\n",
       "      <td>5562</td>\n",
       "      <td>6.5</td>\n",
       "      <td>2015</td>\n",
       "      <td>1.379999e+08</td>\n",
       "      <td>1.392446e+09</td>\n",
       "      <td>1</td>\n",
       "      <td>1</td>\n",
       "      <td>0</td>\n",
       "      <td>0</td>\n",
       "      <td>0</td>\n",
       "      <td>0</td>\n",
       "      <td>0</td>\n",
       "      <td>0</td>\n",
       "      <td>0</td>\n",
       "      <td>0</td>\n",
       "      <td>0</td>\n",
       "      <td>0</td>\n",
       "      <td>0</td>\n",
       "      <td>0</td>\n",
       "      <td>0</td>\n",
       "      <td>1</td>\n",
       "      <td>0</td>\n",
       "      <td>1</td>\n",
       "      <td>0</td>\n",
       "      <td>0</td>\n",
       "    </tr>\n",
       "    <tr>\n",
       "      <th>1</th>\n",
       "      <td>28.419936</td>\n",
       "      <td>150000000</td>\n",
       "      <td>378436354</td>\n",
       "      <td>Mad Max: Fury Road</td>\n",
       "      <td>[Tom Hardy, Charlize Theron, Hugh Keays-Byrne,...</td>\n",
       "      <td>[George Miller]</td>\n",
       "      <td>120</td>\n",
       "      <td>[Action, Adventure, Science Fiction, Thriller]</td>\n",
       "      <td>[Village Roadshow Pictures, Kennedy Miller Pro...</td>\n",
       "      <td>2015-05-13</td>\n",
       "      <td>6185</td>\n",
       "      <td>7.1</td>\n",
       "      <td>2015</td>\n",
       "      <td>1.379999e+08</td>\n",
       "      <td>3.481613e+08</td>\n",
       "      <td>1</td>\n",
       "      <td>1</td>\n",
       "      <td>0</td>\n",
       "      <td>0</td>\n",
       "      <td>0</td>\n",
       "      <td>0</td>\n",
       "      <td>0</td>\n",
       "      <td>0</td>\n",
       "      <td>0</td>\n",
       "      <td>0</td>\n",
       "      <td>0</td>\n",
       "      <td>0</td>\n",
       "      <td>0</td>\n",
       "      <td>0</td>\n",
       "      <td>0</td>\n",
       "      <td>1</td>\n",
       "      <td>0</td>\n",
       "      <td>1</td>\n",
       "      <td>0</td>\n",
       "      <td>0</td>\n",
       "    </tr>\n",
       "  </tbody>\n",
       "</table>\n",
       "</div>"
      ],
      "text/plain": [
       "   popularity     budget     revenue      original_title  \\\n",
       "0   32.985763  150000000  1513528810      Jurassic World   \n",
       "1   28.419936  150000000   378436354  Mad Max: Fury Road   \n",
       "\n",
       "                                                cast           director  \\\n",
       "0  [Chris Pratt, Bryce Dallas Howard, Irrfan Khan...  [Colin Trevorrow]   \n",
       "1  [Tom Hardy, Charlize Theron, Hugh Keays-Byrne,...    [George Miller]   \n",
       "\n",
       "   runtime                                          genres  \\\n",
       "0      124  [Action, Adventure, Science Fiction, Thriller]   \n",
       "1      120  [Action, Adventure, Science Fiction, Thriller]   \n",
       "\n",
       "                                production_companies release_date  vote_count  \\\n",
       "0  [Universal Studios, Amblin Entertainment, Lege...   2015-06-09        5562   \n",
       "1  [Village Roadshow Pictures, Kennedy Miller Pro...   2015-05-13        6185   \n",
       "\n",
       "   vote_average  release_year    budget_adj   revenue_adj  Action  Adventure  \\\n",
       "0           6.5          2015  1.379999e+08  1.392446e+09       1          1   \n",
       "1           7.1          2015  1.379999e+08  3.481613e+08       1          1   \n",
       "\n",
       "   Animation  Comedy  Crime  Documentary  Drama  Family  Fantasy  Foreign  \\\n",
       "0          0       0      0            0      0       0        0        0   \n",
       "1          0       0      0            0      0       0        0        0   \n",
       "\n",
       "   History  Horror  Music  Mystery  Romance  Science Fiction  TV Movie  \\\n",
       "0        0       0      0        0        0                1         0   \n",
       "1        0       0      0        0        0                1         0   \n",
       "\n",
       "   Thriller  War  Western  \n",
       "0         1    0        0  \n",
       "1         1    0        0  "
      ]
     },
     "execution_count": 44,
     "metadata": {},
     "output_type": "execute_result"
    }
   ],
   "source": [
    "# generate dummies dataframe of all movies genres\n",
    "\n",
    "df_genres = pd.get_dummies(df.genres.apply(pd.Series).stack()).sum(level=0)\n",
    "df_genres_com = pd.concat([df, df_genres], axis = 1)\n",
    "df_genres_com.head(2)"
   ]
  },
  {
   "cell_type": "code",
   "execution_count": 45,
   "metadata": {
    "scrolled": false
   },
   "outputs": [
    {
     "data": {
      "image/png": "[encoded data removed]",
      "text/plain": [
       "<Figure size 720x504 with 1 Axes>"
      ]
     },
     "metadata": {
      "needs_background": "light"
     },
     "output_type": "display_data"
    }
   ],
   "source": [
    "# get total sum of each genres\n",
    "\n",
    "total_genre = df_genres.sum().sort_values()\n",
    "\n",
    "\n",
    "total_genre.plot.barh(figsize = (10,7))\n",
    "plt.title(\"Popular Genre\")\n",
    "plt.xlabel(\"Total\")\n",
    "plt.ylabel(\"Genres\");"
   ]
  },
  {
   "cell_type": "markdown",
   "metadata": {},
   "source": [
    "> Drama and Comedy genre came as as the top 2 popular genres with 2275 and 1771 movies associated with them respectively"
   ]
  },
  {
   "cell_type": "code",
   "execution_count": 46,
   "metadata": {},
   "outputs": [
    {
     "data": {
      "text/html": [
       "<div>\n",
       "<style scoped>\n",
       "    .dataframe tbody tr th:only-of-type {\n",
       "        vertical-align: middle;\n",
       "    }\n",
       "\n",
       "    .dataframe tbody tr th {\n",
       "        vertical-align: top;\n",
       "    }\n",
       "\n",
       "    .dataframe thead th {\n",
       "        text-align: right;\n",
       "    }\n",
       "</style>\n",
       "<table border=\"1\" class=\"dataframe\">\n",
       "  <thead>\n",
       "    <tr style=\"text-align: right;\">\n",
       "      <th></th>\n",
       "      <th>Action</th>\n",
       "      <th>Adventure</th>\n",
       "      <th>Animation</th>\n",
       "      <th>Comedy</th>\n",
       "      <th>Crime</th>\n",
       "      <th>Documentary</th>\n",
       "      <th>Drama</th>\n",
       "      <th>Family</th>\n",
       "      <th>Fantasy</th>\n",
       "      <th>Foreign</th>\n",
       "      <th>History</th>\n",
       "      <th>Horror</th>\n",
       "      <th>Music</th>\n",
       "      <th>Mystery</th>\n",
       "      <th>Romance</th>\n",
       "      <th>Science Fiction</th>\n",
       "      <th>TV Movie</th>\n",
       "      <th>Thriller</th>\n",
       "      <th>War</th>\n",
       "      <th>Western</th>\n",
       "    </tr>\n",
       "    <tr>\n",
       "      <th>release_year</th>\n",
       "      <th></th>\n",
       "      <th></th>\n",
       "      <th></th>\n",
       "      <th></th>\n",
       "      <th></th>\n",
       "      <th></th>\n",
       "      <th></th>\n",
       "      <th></th>\n",
       "      <th></th>\n",
       "      <th></th>\n",
       "      <th></th>\n",
       "      <th></th>\n",
       "      <th></th>\n",
       "      <th></th>\n",
       "      <th></th>\n",
       "      <th></th>\n",
       "      <th></th>\n",
       "      <th></th>\n",
       "      <th></th>\n",
       "      <th></th>\n",
       "    </tr>\n",
       "  </thead>\n",
       "  <tbody>\n",
       "    <tr>\n",
       "      <th>1960</th>\n",
       "      <td>2</td>\n",
       "      <td>1</td>\n",
       "      <td>0</td>\n",
       "      <td>4</td>\n",
       "      <td>0</td>\n",
       "      <td>0</td>\n",
       "      <td>4</td>\n",
       "      <td>1</td>\n",
       "      <td>0</td>\n",
       "      <td>0</td>\n",
       "      <td>1</td>\n",
       "      <td>1</td>\n",
       "      <td>0</td>\n",
       "      <td>0</td>\n",
       "      <td>3</td>\n",
       "      <td>0</td>\n",
       "      <td>0</td>\n",
       "      <td>1</td>\n",
       "      <td>0</td>\n",
       "      <td>1</td>\n",
       "    </tr>\n",
       "    <tr>\n",
       "      <th>1961</th>\n",
       "      <td>2</td>\n",
       "      <td>2</td>\n",
       "      <td>1</td>\n",
       "      <td>4</td>\n",
       "      <td>1</td>\n",
       "      <td>0</td>\n",
       "      <td>6</td>\n",
       "      <td>2</td>\n",
       "      <td>0</td>\n",
       "      <td>0</td>\n",
       "      <td>1</td>\n",
       "      <td>1</td>\n",
       "      <td>1</td>\n",
       "      <td>0</td>\n",
       "      <td>1</td>\n",
       "      <td>0</td>\n",
       "      <td>0</td>\n",
       "      <td>0</td>\n",
       "      <td>1</td>\n",
       "      <td>1</td>\n",
       "    </tr>\n",
       "    <tr>\n",
       "      <th>1962</th>\n",
       "      <td>2</td>\n",
       "      <td>3</td>\n",
       "      <td>0</td>\n",
       "      <td>1</td>\n",
       "      <td>1</td>\n",
       "      <td>0</td>\n",
       "      <td>6</td>\n",
       "      <td>1</td>\n",
       "      <td>0</td>\n",
       "      <td>0</td>\n",
       "      <td>1</td>\n",
       "      <td>1</td>\n",
       "      <td>1</td>\n",
       "      <td>1</td>\n",
       "      <td>0</td>\n",
       "      <td>0</td>\n",
       "      <td>0</td>\n",
       "      <td>1</td>\n",
       "      <td>1</td>\n",
       "      <td>2</td>\n",
       "    </tr>\n",
       "    <tr>\n",
       "      <th>1963</th>\n",
       "      <td>2</td>\n",
       "      <td>2</td>\n",
       "      <td>0</td>\n",
       "      <td>2</td>\n",
       "      <td>1</td>\n",
       "      <td>0</td>\n",
       "      <td>3</td>\n",
       "      <td>0</td>\n",
       "      <td>0</td>\n",
       "      <td>0</td>\n",
       "      <td>3</td>\n",
       "      <td>1</td>\n",
       "      <td>0</td>\n",
       "      <td>1</td>\n",
       "      <td>2</td>\n",
       "      <td>0</td>\n",
       "      <td>0</td>\n",
       "      <td>3</td>\n",
       "      <td>1</td>\n",
       "      <td>0</td>\n",
       "    </tr>\n",
       "    <tr>\n",
       "      <th>1964</th>\n",
       "      <td>1</td>\n",
       "      <td>1</td>\n",
       "      <td>0</td>\n",
       "      <td>4</td>\n",
       "      <td>2</td>\n",
       "      <td>0</td>\n",
       "      <td>4</td>\n",
       "      <td>2</td>\n",
       "      <td>1</td>\n",
       "      <td>0</td>\n",
       "      <td>0</td>\n",
       "      <td>0</td>\n",
       "      <td>3</td>\n",
       "      <td>1</td>\n",
       "      <td>2</td>\n",
       "      <td>0</td>\n",
       "      <td>0</td>\n",
       "      <td>2</td>\n",
       "      <td>1</td>\n",
       "      <td>0</td>\n",
       "    </tr>\n",
       "  </tbody>\n",
       "</table>\n",
       "</div>"
      ],
      "text/plain": [
       "              Action  Adventure  Animation  Comedy  Crime  Documentary  Drama  \\\n",
       "release_year                                                                    \n",
       "1960               2          1          0       4      0            0      4   \n",
       "1961               2          2          1       4      1            0      6   \n",
       "1962               2          3          0       1      1            0      6   \n",
       "1963               2          2          0       2      1            0      3   \n",
       "1964               1          1          0       4      2            0      4   \n",
       "\n",
       "              Family  Fantasy  Foreign  History  Horror  Music  Mystery  \\\n",
       "release_year                                                              \n",
       "1960               1        0        0        1       1      0        0   \n",
       "1961               2        0        0        1       1      1        0   \n",
       "1962               1        0        0        1       1      1        1   \n",
       "1963               0        0        0        3       1      0        1   \n",
       "1964               2        1        0        0       0      3        1   \n",
       "\n",
       "              Romance  Science Fiction  TV Movie  Thriller  War  Western  \n",
       "release_year                                                              \n",
       "1960                3                0         0         1    0        1  \n",
       "1961                1                0         0         0    1        1  \n",
       "1962                0                0         0         1    1        2  \n",
       "1963                2                0         0         3    1        0  \n",
       "1964                2                0         0         2    1        0  "
      ]
     },
     "execution_count": 46,
     "metadata": {},
     "output_type": "execute_result"
    }
   ],
   "source": [
    "# get popular genre for each year\n",
    "\n",
    "pop_genre_yr = df_genres_com.groupby(\"release_year\")[list(df_genres.columns)].sum()\n",
    "pop_genre_yr.head()"
   ]
  },
  {
   "cell_type": "code",
   "execution_count": 47,
   "metadata": {},
   "outputs": [],
   "source": [
    "# a function to get the most popular genre for each year.\n",
    "\n",
    "def plot_pop_genre_yr(yr):\n",
    "    year = pop_genre_yr.loc[yr]\n",
    "    year = year.sort_values()\n",
    "    year.plot(kind='barh', figsize = (10,8))\n",
    "    plt.title(\"Popular genre in {}\".format(yr))\n",
    "    plt.xlabel(\"Number\")\n",
    "    plt.ylabel(\"Genre\")\n",
    "    plt.show()"
   ]
  },
  {
   "cell_type": "markdown",
   "metadata": {},
   "source": [
    "**NB** : For the purpose of function created and space, the first and last years will be plotted to compare most popular genre"
   ]
  },
  {
   "cell_type": "code",
   "execution_count": 48,
   "metadata": {},
   "outputs": [
    {
     "data": {
      "image/png": "[encoded data removed]",
      "text/plain": [
       "<Figure size 720x576 with 1 Axes>"
      ]
     },
     "metadata": {
      "needs_background": "light"
     },
     "output_type": "display_data"
    }
   ],
   "source": [
    "plot_pop_genre_yr(1960)"
   ]
  },
  {
   "cell_type": "code",
   "execution_count": 49,
   "metadata": {},
   "outputs": [
    {
     "data": {
      "image/png": "[encoded data removed]",
      "text/plain": [
       "<Figure size 720x576 with 1 Axes>"
      ]
     },
     "metadata": {
      "needs_background": "light"
     },
     "output_type": "display_data"
    }
   ],
   "source": [
    "plot_pop_genre_yr(2015)"
   ]
  },
  {
   "cell_type": "markdown",
   "metadata": {},
   "source": [
    "> In 1960, the comedy genre was the most popular genre, followed by Drama genre, and then Romance, but in 2015 (last recorded year), Drama genre was the most popular, followed by the Comedy genre and then Thriller genre.\n",
    "\n",
    "> 1960 has no record of Music, War, Fantasy, Mystery, Animation e.t.c. genres (as shown in the plot)"
   ]
  },
  {
   "cell_type": "markdown",
   "metadata": {},
   "source": [
    "## Research Question 7: Top 10 Casts, Directors and Production Companies"
   ]
  },
  {
   "cell_type": "code",
   "execution_count": 50,
   "metadata": {},
   "outputs": [],
   "source": [
    "# a function to get the popular categories (Casts, Directors and Production_companies)\n",
    "\n",
    "def popular(col):\n",
    "    df_col = pd.get_dummies(df[col].apply(pd.Series).stack()).sum(level=0)\n",
    "    total_col = df_col.sum().sort_values(ascending = False).head(10)\n",
    "    total_col.sort_values(inplace = True)\n",
    "    total_col.plot.barh(figsize = (10,7))\n",
    "    plt.title(\"Popular {}\".format(col))\n",
    "    plt.xlabel(\"Total\")\n",
    "    plt.ylabel(col);"
   ]
  },
  {
   "cell_type": "markdown",
   "metadata": {},
   "source": [
    "> ### 7.1: Top 10 Most Popular Cast"
   ]
  },
  {
   "cell_type": "code",
   "execution_count": 51,
   "metadata": {
    "scrolled": false
   },
   "outputs": [
    {
     "data": {
      "image/png": "[encoded data removed]",
      "text/plain": [
       "<Figure size 720x504 with 1 Axes>"
      ]
     },
     "metadata": {
      "needs_background": "light"
     },
     "output_type": "display_data"
    }
   ],
   "source": [
    "popular(\"cast\")"
   ]
  },
  {
   "cell_type": "markdown",
   "metadata": {},
   "source": [
    "> Most Popular Cast is Robert De Niro with close to 60 movies featured in, followed by Samuel L. Jackson with close to 50 movies featured in."
   ]
  },
  {
   "cell_type": "markdown",
   "metadata": {},
   "source": [
    "> ### 7.2: Top 10 Most Popular Directors"
   ]
  },
  {
   "cell_type": "code",
   "execution_count": 52,
   "metadata": {
    "scrolled": false
   },
   "outputs": [
    {
     "data": {
      "image/png": "[encoded data removed]",
      "text/plain": [
       "<Figure size 720x504 with 1 Axes>"
      ]
     },
     "metadata": {
      "needs_background": "light"
     },
     "output_type": "display_data"
    }
   ],
   "source": [
    "popular(\"director\")"
   ]
  },
  {
   "cell_type": "markdown",
   "metadata": {},
   "source": [
    "> Most Popular director is Steven Spielberg with over 25 directed movies, followed by Clint Eastwood"
   ]
  },
  {
   "cell_type": "markdown",
   "metadata": {},
   "source": [
    "> ### 7.3: Top 10 Most Popular Production Companies"
   ]
  },
  {
   "cell_type": "code",
   "execution_count": 53,
   "metadata": {},
   "outputs": [
    {
     "data": {
      "image/png": "[encoded data removed]",
      "text/plain": [
       "<Figure size 720x504 with 1 Axes>"
      ]
     },
     "metadata": {
      "needs_background": "light"
     },
     "output_type": "display_data"
    }
   ],
   "source": [
    "popular(\"production_companies\")"
   ]
  },
  {
   "cell_type": "markdown",
   "metadata": {},
   "source": [
    "> Universal Pictures has so far produced more movies than any other Production companies"
   ]
  },
  {
   "cell_type": "markdown",
   "metadata": {},
   "source": [
    "## Top Production Companies with the highest revenue generated, according to the number of movies produced"
   ]
  },
  {
   "cell_type": "code",
   "execution_count": 54,
   "metadata": {},
   "outputs": [
    {
     "data": {
      "text/html": [
       "<div>\n",
       "<style scoped>\n",
       "    .dataframe tbody tr th:only-of-type {\n",
       "        vertical-align: middle;\n",
       "    }\n",
       "\n",
       "    .dataframe tbody tr th {\n",
       "        vertical-align: top;\n",
       "    }\n",
       "\n",
       "    .dataframe thead th {\n",
       "        text-align: right;\n",
       "    }\n",
       "</style>\n",
       "<table border=\"1\" class=\"dataframe\">\n",
       "  <thead>\n",
       "    <tr style=\"text-align: right;\">\n",
       "      <th></th>\n",
       "      <th>revenue</th>\n",
       "      <th>Universal Pictures</th>\n",
       "      <th>Warner Bros.</th>\n",
       "      <th>Paramount Pictures</th>\n",
       "      <th>Twentieth Century Fox Film Corporation</th>\n",
       "      <th>Columbia Pictures</th>\n",
       "      <th>New Line Cinema</th>\n",
       "      <th>Touchstone Pictures</th>\n",
       "      <th>Metro-Goldwyn-Mayer (MGM)</th>\n",
       "      <th>Walt Disney Pictures</th>\n",
       "      <th>Columbia Pictures Corporation</th>\n",
       "    </tr>\n",
       "  </thead>\n",
       "  <tbody>\n",
       "    <tr>\n",
       "      <th>0</th>\n",
       "      <td>1513528810</td>\n",
       "      <td>0</td>\n",
       "      <td>0</td>\n",
       "      <td>0</td>\n",
       "      <td>0</td>\n",
       "      <td>0</td>\n",
       "      <td>0</td>\n",
       "      <td>0</td>\n",
       "      <td>0</td>\n",
       "      <td>0</td>\n",
       "      <td>0</td>\n",
       "    </tr>\n",
       "    <tr>\n",
       "      <th>1</th>\n",
       "      <td>378436354</td>\n",
       "      <td>0</td>\n",
       "      <td>0</td>\n",
       "      <td>0</td>\n",
       "      <td>0</td>\n",
       "      <td>0</td>\n",
       "      <td>0</td>\n",
       "      <td>0</td>\n",
       "      <td>0</td>\n",
       "      <td>0</td>\n",
       "      <td>0</td>\n",
       "    </tr>\n",
       "    <tr>\n",
       "      <th>2</th>\n",
       "      <td>295238201</td>\n",
       "      <td>0</td>\n",
       "      <td>0</td>\n",
       "      <td>0</td>\n",
       "      <td>0</td>\n",
       "      <td>0</td>\n",
       "      <td>0</td>\n",
       "      <td>0</td>\n",
       "      <td>0</td>\n",
       "      <td>0</td>\n",
       "      <td>0</td>\n",
       "    </tr>\n",
       "    <tr>\n",
       "      <th>3</th>\n",
       "      <td>2068178225</td>\n",
       "      <td>0</td>\n",
       "      <td>0</td>\n",
       "      <td>0</td>\n",
       "      <td>0</td>\n",
       "      <td>0</td>\n",
       "      <td>0</td>\n",
       "      <td>0</td>\n",
       "      <td>0</td>\n",
       "      <td>0</td>\n",
       "      <td>0</td>\n",
       "    </tr>\n",
       "    <tr>\n",
       "      <th>4</th>\n",
       "      <td>1506249360</td>\n",
       "      <td>1</td>\n",
       "      <td>0</td>\n",
       "      <td>0</td>\n",
       "      <td>0</td>\n",
       "      <td>0</td>\n",
       "      <td>0</td>\n",
       "      <td>0</td>\n",
       "      <td>0</td>\n",
       "      <td>0</td>\n",
       "      <td>0</td>\n",
       "    </tr>\n",
       "  </tbody>\n",
       "</table>\n",
       "</div>"
      ],
      "text/plain": [
       "      revenue  Universal Pictures  Warner Bros.  Paramount Pictures  \\\n",
       "0  1513528810                   0             0                   0   \n",
       "1   378436354                   0             0                   0   \n",
       "2   295238201                   0             0                   0   \n",
       "3  2068178225                   0             0                   0   \n",
       "4  1506249360                   1             0                   0   \n",
       "\n",
       "   Twentieth Century Fox Film Corporation  Columbia Pictures  New Line Cinema  \\\n",
       "0                                       0                  0                0   \n",
       "1                                       0                  0                0   \n",
       "2                                       0                  0                0   \n",
       "3                                       0                  0                0   \n",
       "4                                       0                  0                0   \n",
       "\n",
       "   Touchstone Pictures  Metro-Goldwyn-Mayer (MGM)  Walt Disney Pictures  \\\n",
       "0                    0                          0                     0   \n",
       "1                    0                          0                     0   \n",
       "2                    0                          0                     0   \n",
       "3                    0                          0                     0   \n",
       "4                    0                          0                     0   \n",
       "\n",
       "   Columbia Pictures Corporation  \n",
       "0                              0  \n",
       "1                              0  \n",
       "2                              0  \n",
       "3                              0  \n",
       "4                              0  "
      ]
     },
     "execution_count": 54,
     "metadata": {},
     "output_type": "execute_result"
    }
   ],
   "source": [
    "df_pc = pd.get_dummies(df.production_companies.apply(pd.Series).stack()).sum(level=0)\n",
    "\n",
    "total_col_pc = pd.DataFrame(df_pc.sum().sort_values(ascending = False).head(10)).reset_index() \n",
    "total_col_pc.rename(columns = {\"index\": \"top_pc\", 0:\"number\"}, inplace = True)\n",
    "top_pc = list(total_col_pc[\"top_pc\"])\n",
    "df_top_pc = df_pc[top_pc]\n",
    "\n",
    "\n",
    "df_pc_com = pd.concat([df[\"revenue\"], df_top_pc], axis = 1)\n",
    "df_pc_com.head()"
   ]
  },
  {
   "cell_type": "code",
   "execution_count": 55,
   "metadata": {},
   "outputs": [],
   "source": [
    "# a loop to get the average revenue generated by the top 10 production companies\n",
    "\n",
    "rev = []\n",
    "prod_comp = []\n",
    "\n",
    "for i in top_pc:\n",
    "    df_pc = df_pc_com[[\"revenue\", i]]\n",
    "    df_pc = df_pc[df_pc[i] == 1][\"revenue\"].mean()\n",
    "    rev.append(df_pc)\n",
    "    prod_comp.append(i)"
   ]
  },
  {
   "cell_type": "code",
   "execution_count": 56,
   "metadata": {},
   "outputs": [
    {
     "data": {
      "text/html": [
       "<div>\n",
       "<style scoped>\n",
       "    .dataframe tbody tr th:only-of-type {\n",
       "        vertical-align: middle;\n",
       "    }\n",
       "\n",
       "    .dataframe tbody tr th {\n",
       "        vertical-align: top;\n",
       "    }\n",
       "\n",
       "    .dataframe thead th {\n",
       "        text-align: right;\n",
       "    }\n",
       "</style>\n",
       "<table border=\"1\" class=\"dataframe\">\n",
       "  <thead>\n",
       "    <tr style=\"text-align: right;\">\n",
       "      <th></th>\n",
       "      <th>production_comp</th>\n",
       "      <th>Avg_rev</th>\n",
       "    </tr>\n",
       "  </thead>\n",
       "  <tbody>\n",
       "    <tr>\n",
       "      <th>7</th>\n",
       "      <td>Metro-Goldwyn-Mayer (MGM)</td>\n",
       "      <td>8.475384e+07</td>\n",
       "    </tr>\n",
       "    <tr>\n",
       "      <th>6</th>\n",
       "      <td>Touchstone Pictures</td>\n",
       "      <td>9.754164e+07</td>\n",
       "    </tr>\n",
       "    <tr>\n",
       "      <th>9</th>\n",
       "      <td>Columbia Pictures Corporation</td>\n",
       "      <td>1.108712e+08</td>\n",
       "    </tr>\n",
       "    <tr>\n",
       "      <th>5</th>\n",
       "      <td>New Line Cinema</td>\n",
       "      <td>1.204825e+08</td>\n",
       "    </tr>\n",
       "    <tr>\n",
       "      <th>0</th>\n",
       "      <td>Universal Pictures</td>\n",
       "      <td>1.247020e+08</td>\n",
       "    </tr>\n",
       "    <tr>\n",
       "      <th>2</th>\n",
       "      <td>Paramount Pictures</td>\n",
       "      <td>1.300276e+08</td>\n",
       "    </tr>\n",
       "    <tr>\n",
       "      <th>1</th>\n",
       "      <td>Warner Bros.</td>\n",
       "      <td>1.458358e+08</td>\n",
       "    </tr>\n",
       "    <tr>\n",
       "      <th>4</th>\n",
       "      <td>Columbia Pictures</td>\n",
       "      <td>1.458388e+08</td>\n",
       "    </tr>\n",
       "    <tr>\n",
       "      <th>3</th>\n",
       "      <td>Twentieth Century Fox Film Corporation</td>\n",
       "      <td>1.673813e+08</td>\n",
       "    </tr>\n",
       "    <tr>\n",
       "      <th>8</th>\n",
       "      <td>Walt Disney Pictures</td>\n",
       "      <td>2.470560e+08</td>\n",
       "    </tr>\n",
       "  </tbody>\n",
       "</table>\n",
       "</div>"
      ],
      "text/plain": [
       "                          production_comp       Avg_rev\n",
       "7               Metro-Goldwyn-Mayer (MGM)  8.475384e+07\n",
       "6                     Touchstone Pictures  9.754164e+07\n",
       "9           Columbia Pictures Corporation  1.108712e+08\n",
       "5                         New Line Cinema  1.204825e+08\n",
       "0                      Universal Pictures  1.247020e+08\n",
       "2                      Paramount Pictures  1.300276e+08\n",
       "1                            Warner Bros.  1.458358e+08\n",
       "4                       Columbia Pictures  1.458388e+08\n",
       "3  Twentieth Century Fox Film Corporation  1.673813e+08\n",
       "8                    Walt Disney Pictures  2.470560e+08"
      ]
     },
     "execution_count": 56,
     "metadata": {},
     "output_type": "execute_result"
    }
   ],
   "source": [
    "# get a dataframe of each compny against its average revenue\n",
    "\n",
    "df_prod_comp = pd.DataFrame(rev, prod_comp).reset_index()\n",
    "df_prod_comp.rename(columns = {\"index\":\"production_comp\", 0:\"Avg_rev\"}, inplace = True)\n",
    "df_prod_comp.sort_values(by = \"Avg_rev\", ascending = True, inplace = True)\n",
    "df_prod_comp = df_prod_comp.head(10)\n",
    "df_prod_comp"
   ]
  },
  {
   "cell_type": "code",
   "execution_count": 57,
   "metadata": {},
   "outputs": [
    {
     "data": {
      "text/plain": [
       "<matplotlib.axes._subplots.AxesSubplot at 0x1b1c0717438>"
      ]
     },
     "execution_count": 57,
     "metadata": {},
     "output_type": "execute_result"
    },
    {
     "data": {
      "image/png": "[encoded data removed]",
      "text/plain": [
       "<Figure size 720x576 with 1 Axes>"
      ]
     },
     "metadata": {
      "needs_background": "light"
     },
     "output_type": "display_data"
    }
   ],
   "source": [
    "df_prod_comp.plot(kind = \"barh\", x = \"production_comp\", y = \"Avg_rev\", figsize = (10,8))\n"
   ]
  },
  {
   "cell_type": "markdown",
   "metadata": {},
   "source": [
    "> Though Universal Pictures has produced more movies than any other production companies, on average, they generated less revenues than some other companies. \n",
    "\n",
    "> Walt Dsiney Pictures falling under the bottom 2 among the top 10 Production companies came out as the number one company producing the highest revenue on average.\n",
    "\n",
    "> Though Twentieth Century Fox Film Corporation, among the top 5 popular companies also fell among the top 3 in avg revenue generated, same as Warnes Bros, Paramount Pictures, Columbia Pictures. This could imply that the productionc company of a movie does affect the success of that movie."
   ]
  },
  {
   "cell_type": "markdown",
   "metadata": {},
   "source": [
    "<a id='conclusions'></a>\n",
    "## Conclusions\n"
   ]
  },
  {
   "cell_type": "markdown",
   "metadata": {},
   "source": [
    "### The following conclusions were made\n",
    "> - The success of a movie is not determined by how long the movie runs for.\n",
    "> - The popularity of a movies has an effect on the success of that movie.\n",
    "> - The success of a movie can be determined by the budget of that movie.\n",
    "> - Movies directed by multiple directors on average, generate more revenue than movied direcetd by one director.\n",
    "> - Most of the genres produced now weren't produced in the early years.\n",
    "> - Some of the popular genres in the early years are still popular even now. Drama and Comedy movies are still the most popular movies genres produced.\n"
   ]
  },
  {
   "cell_type": "markdown",
   "metadata": {},
   "source": [
    "### Limitations \n",
    "\n",
    "> - Some of the columns in the dataset has mulitple values. Attempts to clean them proved difficult based on my knowledge, so had to look for ways to clean them up, and make proper use of those columns.\n",
    "> - Knowing the right columns to drop, that wont affect the analysis\n",
    "> - Issues were faced in the determining in=f to drop budget and revenue with zero values. Is it possible to have a movie with zero budget? or a movie generating zero revenue? Should they be dropped? These questions askd led to a great limitation."
   ]
  },
  {
   "cell_type": "markdown",
   "metadata": {},
   "source": [
    "<a id='resources used'></a>\n",
    "### Resources Used"
   ]
  },
  {
   "cell_type": "markdown",
   "metadata": {},
   "source": [
    "> - https://www.codegrepper.com/code-examples/python/check+if+a+list+contains+any+item+from+another+list+python\n",
    "> - https://stackoverflow.com/questions/29034928/pandas-convert-a-column-of-list-to-dummies"
   ]
  },
  {
   "cell_type": "code",
   "execution_count": null,
   "metadata": {},
   "outputs": [],
   "source": []
  }
 ],
 "metadata": {
  "kernelspec": {
   "display_name": "Python 3 (ipykernel)",
   "language": "python",
   "name": "python3"
  },
  "language_info": {
   "codemirror_mode": {
    "name": "ipython",
    "version": 3
   },
   "file_extension": ".py",
   "mimetype": "text/x-python",
   "name": "python",
   "nbconvert_exporter": "python",
   "pygments_lexer": "ipython3",
   "version": "3.9.12"
  }
 },
 "nbformat": 4,
 "nbformat_minor": 2
}
